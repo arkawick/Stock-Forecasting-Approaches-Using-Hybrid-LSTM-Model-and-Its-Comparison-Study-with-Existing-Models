{
 "cells": [
  {
   "cell_type": "code",
   "execution_count": 1,
   "metadata": {
    "_cell_guid": "b1076dfc-b9ad-4769-8c92-a6c4dae69d19",
    "_uuid": "8f2839f25d086af736a60e9eeb907d3b93b6e0e5"
   },
   "outputs": [
    {
     "name": "stdout",
     "output_type": "stream",
     "text": [
      "['.ipynb_checkpoints', '1613112047_Siddhant Saurabh_FinalProjectReport - siddhant saurabh.pdf', '7th sem 2022 guideline for project report preparation.docx', 'AAPL - Main.ipynb', 'AAPL - Raw.ipynb', 'AAPL.csv', 'AB.txt', 'analyze-uniqlo-stock.ipynb', 'Arkajyoti Bhattacharyay CV.pdf', 'Arnab Dey_Report_10211219010 (1).pdf', 'Avik_Banik-10211219013.pdf', 'CC DecTree.ipynb', 'CC KNN.ipynb', 'CC LogReg.ipynb', 'CC NB.ipynb', 'CC RF.ipynb', 'Cloud Computing', 'Cyber security', 'desktop.ini', 'Files', 'HSMC 701', 'Huge Stock', 'huge-stock-market-dataset.ipynb', 'imdb_classification_rnn.ipynb', 'istanbul-stock', 'istanbul-stock-prediction-lstm.ipynb', 'istanbul_stock_exchange.csv', 'List.ipynb', 'Literature survey Stock market LSTM.pdf', 'LSTM.ipynb', 'Machine learning', 'Made Easy Offline Mock Tests Paper.pdf', 'Multimedia', 'Netflix.csv', 'Netflix.ipynb', 'Pannel 1.xlsx', 'Program problems', 'Project Presentation.pptx', 'Project Report.docx', 'projects2021C9.pdf', 'SampleReport.docx', 'saved_lstm_model.h5', 'sem7.pdf', 'semester 7', 'Shubham_Khan_10211219006.pdf', 'Stock Prediction', 'Stock Prediction using ML Review paper.pdf', 'Stock rough.ipynb', 'Stock-MArket-Forecasting-master', 'stock-price-prediction-lstm.ipynb', 'Stock-Price-Predictor-master', 'stock_app.py', 'stock_pred.py', 'Tata.ipynb', 'TataApp.ipynb', 'TataGlobal.csv', 'TOC by Prasad Sir.pdf', 'TOC-KEY-CHAPTER1 .pdf', 'Uniqlo (FastRetailing) Stock Price Prediction', 'Uniqlo(FastRetailing) 2012-2016 Training - stocks2012-2016.csv', '~$kajyoti Bhattacharyay_CSE Roll.10200119050.docx', '~$oject Report.docx', '~$ojects2021C9.pdf', '~WRL3419.tmp']\n"
     ]
    }
   ],
   "source": [
    "# This Python 3 environment comes with many helpful analytics libraries installed\n",
    "# It is defined by the kaggle/python docker image: https://github.com/kaggle/docker-python\n",
    "# For example, here's several helpful packages to load in \n",
    "\n",
    "import numpy as np # linear algebra\n",
    "import pandas as pd # data processing, CSV file I/O (e.g. pd.read_csv)\n",
    "\n",
    "# Importing the libraries\n",
    "import matplotlib.pyplot as plt\n",
    "import warnings\n",
    "warnings.filterwarnings('ignore')\n",
    "\n",
    "# Input data files are available in the \"../input/\" directory.\n",
    "# For example, running this (by clicking run or pressing Shift+Enter) will list the files in the input directory\n",
    "\n",
    "import os\n",
    "print(os.listdir(\"c:/users/arkaj/desktop\"))\n",
    "\n",
    "# Any results you write to the current directory are saved as output."
   ]
  },
  {
   "cell_type": "code",
   "execution_count": 2,
   "metadata": {
    "_cell_guid": "79c7e3d0-c299-4dcb-8224-4455121ee9b0",
    "_uuid": "d629ff2d2480ee46fbb7e2d37f6b5fab8052498a"
   },
   "outputs": [],
   "source": [
    "# Importing the training set\n",
    "dataset_train = pd.read_csv('c:/users/arkaj/desktop/Uniqlo(FastRetailing) 2012-2016 Training - stocks2012-2016.csv')"
   ]
  },
  {
   "cell_type": "code",
   "execution_count": 3,
   "metadata": {
    "_uuid": "c8f31e82340070e864957f2245c2f7abd670031b"
   },
   "outputs": [
    {
     "data": {
      "text/html": [
       "<div>\n",
       "<style scoped>\n",
       "    .dataframe tbody tr th:only-of-type {\n",
       "        vertical-align: middle;\n",
       "    }\n",
       "\n",
       "    .dataframe tbody tr th {\n",
       "        vertical-align: top;\n",
       "    }\n",
       "\n",
       "    .dataframe thead th {\n",
       "        text-align: right;\n",
       "    }\n",
       "</style>\n",
       "<table border=\"1\" class=\"dataframe\">\n",
       "  <thead>\n",
       "    <tr style=\"text-align: right;\">\n",
       "      <th></th>\n",
       "      <th>Date</th>\n",
       "      <th>Open</th>\n",
       "      <th>High</th>\n",
       "      <th>Low</th>\n",
       "      <th>Close</th>\n",
       "      <th>Volume</th>\n",
       "      <th>Stock Trading</th>\n",
       "    </tr>\n",
       "  </thead>\n",
       "  <tbody>\n",
       "    <tr>\n",
       "      <th>0</th>\n",
       "      <td>2016-12-30</td>\n",
       "      <td>42120</td>\n",
       "      <td>42330</td>\n",
       "      <td>41700</td>\n",
       "      <td>41830</td>\n",
       "      <td>610000</td>\n",
       "      <td>25628028000</td>\n",
       "    </tr>\n",
       "    <tr>\n",
       "      <th>1</th>\n",
       "      <td>2016-12-29</td>\n",
       "      <td>43000</td>\n",
       "      <td>43220</td>\n",
       "      <td>42540</td>\n",
       "      <td>42660</td>\n",
       "      <td>448400</td>\n",
       "      <td>19188227000</td>\n",
       "    </tr>\n",
       "    <tr>\n",
       "      <th>2</th>\n",
       "      <td>2016-12-28</td>\n",
       "      <td>43940</td>\n",
       "      <td>43970</td>\n",
       "      <td>43270</td>\n",
       "      <td>43270</td>\n",
       "      <td>339900</td>\n",
       "      <td>14780670000</td>\n",
       "    </tr>\n",
       "    <tr>\n",
       "      <th>3</th>\n",
       "      <td>2016-12-27</td>\n",
       "      <td>43140</td>\n",
       "      <td>43700</td>\n",
       "      <td>43140</td>\n",
       "      <td>43620</td>\n",
       "      <td>400100</td>\n",
       "      <td>17427993000</td>\n",
       "    </tr>\n",
       "    <tr>\n",
       "      <th>4</th>\n",
       "      <td>2016-12-26</td>\n",
       "      <td>43310</td>\n",
       "      <td>43660</td>\n",
       "      <td>43090</td>\n",
       "      <td>43340</td>\n",
       "      <td>358200</td>\n",
       "      <td>15547803000</td>\n",
       "    </tr>\n",
       "  </tbody>\n",
       "</table>\n",
       "</div>"
      ],
      "text/plain": [
       "         Date   Open   High    Low  Close  Volume  Stock Trading\n",
       "0  2016-12-30  42120  42330  41700  41830  610000    25628028000\n",
       "1  2016-12-29  43000  43220  42540  42660  448400    19188227000\n",
       "2  2016-12-28  43940  43970  43270  43270  339900    14780670000\n",
       "3  2016-12-27  43140  43700  43140  43620  400100    17427993000\n",
       "4  2016-12-26  43310  43660  43090  43340  358200    15547803000"
      ]
     },
     "execution_count": 3,
     "metadata": {},
     "output_type": "execute_result"
    }
   ],
   "source": [
    "dataset_train.head()"
   ]
  },
  {
   "cell_type": "code",
   "execution_count": 4,
   "metadata": {
    "_uuid": "4492d3dab2e8f6578f35a7d450f9a2eeb3660c28"
   },
   "outputs": [
    {
     "data": {
      "text/plain": [
       "array([[42120],\n",
       "       [43000],\n",
       "       [43940],\n",
       "       ...,\n",
       "       [13990],\n",
       "       [13720],\n",
       "       [14050]], dtype=int64)"
      ]
     },
     "execution_count": 4,
     "metadata": {},
     "output_type": "execute_result"
    }
   ],
   "source": [
    "train = dataset_train.loc[:, [\"Open\"]].values\n",
    "train"
   ]
  },
  {
   "cell_type": "code",
   "execution_count": 5,
   "metadata": {
    "_uuid": "75bbf570c460f8c9795ae604b74b30b84900c387"
   },
   "outputs": [
    {
     "data": {
      "text/plain": [
       "(1226, 1)"
      ]
     },
     "execution_count": 5,
     "metadata": {},
     "output_type": "execute_result"
    }
   ],
   "source": [
    "# Feature Scaling\n",
    "from sklearn.preprocessing import MinMaxScaler\n",
    "scaler = MinMaxScaler(feature_range = (0, 1))\n",
    "train_scaled = scaler.fit_transform(train)\n",
    "train_scaled.shape"
   ]
  },
  {
   "cell_type": "code",
   "execution_count": 6,
   "metadata": {
    "_uuid": "84acf608d252175579c9197fbb96f18cd64f1282"
   },
   "outputs": [
    {
     "data": {
      "image/png": "[encoded data removed]",
      "text/plain": [
       "<Figure size 432x288 with 1 Axes>"
      ]
     },
     "metadata": {
      "needs_background": "light"
     },
     "output_type": "display_data"
    }
   ],
   "source": [
    "# train part\n",
    "N = 1000\n",
    "plt.plot(train_scaled[:N])\n",
    "plt.show()"
   ]
  },
  {
   "cell_type": "code",
   "execution_count": 7,
   "metadata": {
    "_uuid": "774d8e049d1b7596d60724fc0c318c8261beb9bf"
   },
   "outputs": [
    {
     "data": {
      "image/png": "[encoded data removed]",
      "text/plain": [
       "<Figure size 432x288 with 1 Axes>"
      ]
     },
     "metadata": {
      "needs_background": "light"
     },
     "output_type": "display_data"
    }
   ],
   "source": [
    "# we are going to predict the last 1226-N values \n",
    "plt.plot(train_scaled[N:])\n",
    "plt.show()"
   ]
  },
  {
   "cell_type": "code",
   "execution_count": 8,
   "metadata": {
    "_uuid": "ee2594ac0786cb611df2294fe6399fead73effac"
   },
   "outputs": [],
   "source": [
    "# Creating a data structure with 50 timesteps and 1 output\n",
    "X_train = []\n",
    "y_train = []\n",
    "timesteps = 50\n",
    "for i in range(timesteps, N):\n",
    "    X_train.append(train_scaled[i-timesteps:i, 0])\n",
    "    y_train.append(train_scaled[i, 0])\n",
    "X_train, y_train = np.array(X_train), np.array(y_train)"
   ]
  },
  {
   "cell_type": "code",
   "execution_count": 9,
   "metadata": {
    "_uuid": "150f89a4afdd339334a9ccd7a7334d1acfddab3c"
   },
   "outputs": [
    {
     "name": "stdout",
     "output_type": "stream",
     "text": [
      "X_train shape:  (950, 50)\n",
      "y_train shape:  (950,)\n"
     ]
    }
   ],
   "source": [
    "print('X_train shape: ', X_train.shape)\n",
    "print('y_train shape: ', y_train.shape)"
   ]
  },
  {
   "cell_type": "code",
   "execution_count": 10,
   "metadata": {
    "_uuid": "10063eebce006be0779df994a3db4a185a78d499",
    "scrolled": true
   },
   "outputs": [],
   "source": [
    "# Reshaping\n",
    "X_train = np.reshape(X_train, (X_train.shape[0], X_train.shape[1], 1))"
   ]
  },
  {
   "cell_type": "code",
   "execution_count": 11,
   "metadata": {
    "_uuid": "35089c1f2973ad939f0c855745bd409881adb9c7"
   },
   "outputs": [
    {
     "name": "stdout",
     "output_type": "stream",
     "text": [
      "X_train shape:  (950, 50, 1)\n",
      "y_train shape:  (950,)\n"
     ]
    }
   ],
   "source": [
    "print('X_train shape: ', X_train.shape)\n",
    "print('y_train shape: ', y_train.shape)"
   ]
  },
  {
   "cell_type": "markdown",
   "metadata": {
    "_uuid": "02fca0accde81707b0e6f54b7853d77c87cfb7a4"
   },
   "source": [
    "### Create LSTM Model"
   ]
  },
  {
   "cell_type": "code",
   "execution_count": 12,
   "metadata": {
    "_uuid": "9215e6b07fc003fd8bfaff5fd84abfb031be0c20"
   },
   "outputs": [
    {
     "name": "stdout",
     "output_type": "stream",
     "text": [
      "Model: \"sequential\"\n",
      "_________________________________________________________________\n",
      " Layer (type)                Output Shape              Param #   \n",
      "=================================================================\n",
      " lstm (LSTM)                 (None, 50, 128)           66560     \n",
      "                                                                 \n",
      " lstm_1 (LSTM)               (None, 50, 64)            49408     \n",
      "                                                                 \n",
      " dropout (Dropout)           (None, 50, 64)            0         \n",
      "                                                                 \n",
      " lstm_2 (LSTM)               (None, 32)                12416     \n",
      "                                                                 \n",
      " dropout_1 (Dropout)         (None, 32)                0         \n",
      "                                                                 \n",
      " dense (Dense)               (None, 1)                 33        \n",
      "                                                                 \n",
      " activation (Activation)     (None, 1)                 0         \n",
      "                                                                 \n",
      "=================================================================\n",
      "Total params: 128,417\n",
      "Trainable params: 128,417\n",
      "Non-trainable params: 0\n",
      "_________________________________________________________________\n"
     ]
    }
   ],
   "source": [
    "import math\n",
    "from keras.models import Sequential\n",
    "from keras.layers import Dense, Dropout, Activation\n",
    "from keras.layers import LSTM\n",
    "from sklearn.metrics import mean_squared_error\n",
    "\n",
    "# model\n",
    "model = Sequential()\n",
    "model.add(LSTM(128, input_shape=(timesteps, 1), return_sequences=True)) # 128 lstm neuron(block)\n",
    "model.add(LSTM(64, return_sequences=True)) # 64 lstm neuron(block)\n",
    "model.add(Dropout(0.2))\n",
    "model.add(LSTM(32)) # 128 lstm neuron(block)\n",
    "model.add(Dropout(0.2))\n",
    "\n",
    "model.add(Dense(1))\n",
    "model.add(Activation('sigmoid'))\n",
    "\n",
    "model.summary()"
   ]
  },
  {
   "cell_type": "code",
   "execution_count": 13,
   "metadata": {
    "_uuid": "9215e6b07fc003fd8bfaff5fd84abfb031be0c20"
   },
   "outputs": [
    {
     "name": "stdout",
     "output_type": "stream",
     "text": [
      "Epoch 1/250\n",
      "30/30 [==============================] - 6s 57ms/step - loss: 0.0151\n",
      "Epoch 2/250\n",
      "30/30 [==============================] - 1s 50ms/step - loss: 0.0050\n",
      "Epoch 3/250\n",
      "30/30 [==============================] - 1s 48ms/step - loss: 0.0039\n",
      "Epoch 4/250\n",
      "30/30 [==============================] - 2s 51ms/step - loss: 0.0033\n",
      "Epoch 5/250\n",
      "30/30 [==============================] - 1s 49ms/step - loss: 0.0029\n",
      "Epoch 6/250\n",
      "30/30 [==============================] - 1s 44ms/step - loss: 0.0028\n",
      "Epoch 7/250\n",
      "30/30 [==============================] - 1s 44ms/step - loss: 0.0024\n",
      "Epoch 8/250\n",
      "30/30 [==============================] - 1s 45ms/step - loss: 0.0024\n",
      "Epoch 9/250\n",
      "30/30 [==============================] - 1s 44ms/step - loss: 0.0021\n",
      "Epoch 10/250\n",
      "30/30 [==============================] - 1s 44ms/step - loss: 0.0019\n",
      "Epoch 11/250\n",
      "30/30 [==============================] - 1s 46ms/step - loss: 0.0018\n",
      "Epoch 12/250\n",
      "30/30 [==============================] - 1s 45ms/step - loss: 0.0017\n",
      "Epoch 13/250\n",
      "30/30 [==============================] - 1s 45ms/step - loss: 0.0017\n",
      "Epoch 14/250\n",
      "30/30 [==============================] - 1s 46ms/step - loss: 0.0016\n",
      "Epoch 15/250\n",
      "30/30 [==============================] - 1s 45ms/step - loss: 0.0015\n",
      "Epoch 16/250\n",
      "30/30 [==============================] - 1s 45ms/step - loss: 0.0016\n",
      "Epoch 17/250\n",
      "30/30 [==============================] - 1s 47ms/step - loss: 0.0018\n",
      "Epoch 18/250\n",
      "30/30 [==============================] - 1s 49ms/step - loss: 0.0014\n",
      "Epoch 19/250\n",
      "30/30 [==============================] - 1s 48ms/step - loss: 0.0013\n",
      "Epoch 20/250\n",
      "30/30 [==============================] - 1s 44ms/step - loss: 0.0012\n",
      "Epoch 21/250\n",
      "30/30 [==============================] - 1s 44ms/step - loss: 0.0012\n",
      "Epoch 22/250\n",
      "30/30 [==============================] - 1s 48ms/step - loss: 0.0012\n",
      "Epoch 23/250\n",
      "30/30 [==============================] - 1s 45ms/step - loss: 0.0012\n",
      "Epoch 24/250\n",
      "30/30 [==============================] - 1s 47ms/step - loss: 0.0012\n",
      "Epoch 25/250\n",
      "30/30 [==============================] - 1s 47ms/step - loss: 0.0011\n",
      "Epoch 26/250\n",
      "30/30 [==============================] - 2s 51ms/step - loss: 0.0010\n",
      "Epoch 27/250\n",
      "30/30 [==============================] - 1s 48ms/step - loss: 0.0011\n",
      "Epoch 28/250\n",
      "30/30 [==============================] - 1s 45ms/step - loss: 0.0011\n",
      "Epoch 29/250\n",
      "30/30 [==============================] - 1s 47ms/step - loss: 0.0010\n",
      "Epoch 30/250\n",
      "30/30 [==============================] - 1s 46ms/step - loss: 9.9521e-04\n",
      "Epoch 31/250\n",
      "30/30 [==============================] - 1s 46ms/step - loss: 0.0011\n",
      "Epoch 32/250\n",
      "30/30 [==============================] - 1s 45ms/step - loss: 9.5186e-04\n",
      "Epoch 33/250\n",
      "30/30 [==============================] - 1s 45ms/step - loss: 8.7231e-04\n",
      "Epoch 34/250\n",
      "30/30 [==============================] - 2s 51ms/step - loss: 0.0011\n",
      "Epoch 35/250\n",
      "30/30 [==============================] - 2s 50ms/step - loss: 9.3148e-04\n",
      "Epoch 36/250\n",
      "30/30 [==============================] - 1s 46ms/step - loss: 8.9355e-04\n",
      "Epoch 37/250\n",
      "30/30 [==============================] - 1s 46ms/step - loss: 8.5701e-04\n",
      "Epoch 38/250\n",
      "30/30 [==============================] - 1s 46ms/step - loss: 8.8605e-04\n",
      "Epoch 39/250\n",
      "30/30 [==============================] - 1s 48ms/step - loss: 9.0126e-04\n",
      "Epoch 40/250\n",
      "30/30 [==============================] - 2s 52ms/step - loss: 9.9726e-04\n",
      "Epoch 41/250\n",
      "30/30 [==============================] - 2s 51ms/step - loss: 8.1974e-04\n",
      "Epoch 42/250\n",
      "30/30 [==============================] - 2s 50ms/step - loss: 8.1282e-04\n",
      "Epoch 43/250\n",
      "30/30 [==============================] - 2s 52ms/step - loss: 8.2890e-04\n",
      "Epoch 44/250\n",
      "30/30 [==============================] - 2s 53ms/step - loss: 7.6277e-04\n",
      "Epoch 45/250\n",
      "30/30 [==============================] - 1s 46ms/step - loss: 8.0759e-04\n",
      "Epoch 46/250\n",
      "30/30 [==============================] - 1s 45ms/step - loss: 8.0974e-04\n",
      "Epoch 47/250\n",
      "30/30 [==============================] - 1s 47ms/step - loss: 7.8417e-04\n",
      "Epoch 48/250\n",
      "30/30 [==============================] - 1s 46ms/step - loss: 8.1872e-04\n",
      "Epoch 49/250\n",
      "30/30 [==============================] - 1s 46ms/step - loss: 7.2458e-04\n",
      "Epoch 50/250\n",
      "30/30 [==============================] - 1s 46ms/step - loss: 7.7133e-04\n",
      "Epoch 51/250\n",
      "30/30 [==============================] - 1s 47ms/step - loss: 7.9844e-04\n",
      "Epoch 52/250\n",
      "30/30 [==============================] - 1s 46ms/step - loss: 7.7156e-04\n",
      "Epoch 53/250\n",
      "30/30 [==============================] - 1s 45ms/step - loss: 7.2215e-04\n",
      "Epoch 54/250\n",
      "30/30 [==============================] - 1s 48ms/step - loss: 7.1836e-04\n",
      "Epoch 55/250\n",
      "30/30 [==============================] - 1s 48ms/step - loss: 7.0073e-04\n",
      "Epoch 56/250\n",
      "30/30 [==============================] - 1s 46ms/step - loss: 7.6886e-04\n",
      "Epoch 57/250\n",
      "30/30 [==============================] - 1s 49ms/step - loss: 7.3667e-04\n",
      "Epoch 58/250\n",
      "30/30 [==============================] - 1s 48ms/step - loss: 8.1934e-04\n",
      "Epoch 59/250\n",
      "30/30 [==============================] - 1s 46ms/step - loss: 7.1856e-04\n",
      "Epoch 60/250\n",
      "30/30 [==============================] - 1s 46ms/step - loss: 6.9370e-04\n",
      "Epoch 61/250\n",
      "30/30 [==============================] - 1s 49ms/step - loss: 7.1328e-04\n",
      "Epoch 62/250\n",
      "30/30 [==============================] - 2s 51ms/step - loss: 6.9460e-04\n",
      "Epoch 63/250\n",
      "30/30 [==============================] - 2s 50ms/step - loss: 6.6239e-04\n",
      "Epoch 64/250\n",
      "30/30 [==============================] - 2s 50ms/step - loss: 6.7364e-04\n",
      "Epoch 65/250\n",
      "30/30 [==============================] - 1s 49ms/step - loss: 6.6210e-04\n",
      "Epoch 66/250\n",
      "30/30 [==============================] - 1s 45ms/step - loss: 6.5021e-04\n",
      "Epoch 67/250\n",
      "30/30 [==============================] - 1s 46ms/step - loss: 7.1872e-04\n",
      "Epoch 68/250\n",
      "30/30 [==============================] - 1s 46ms/step - loss: 6.6131e-04\n",
      "Epoch 69/250\n",
      "30/30 [==============================] - 1s 47ms/step - loss: 6.3182e-04\n",
      "Epoch 70/250\n",
      "30/30 [==============================] - 1s 46ms/step - loss: 6.3159e-04\n",
      "Epoch 71/250\n",
      "30/30 [==============================] - 1s 46ms/step - loss: 6.3900e-04\n",
      "Epoch 72/250\n",
      "30/30 [==============================] - 1s 45ms/step - loss: 6.7087e-04\n",
      "Epoch 73/250\n",
      "30/30 [==============================] - 1s 46ms/step - loss: 6.7116e-04\n",
      "Epoch 74/250\n",
      "30/30 [==============================] - 1s 46ms/step - loss: 6.1436e-04\n",
      "Epoch 75/250\n",
      "30/30 [==============================] - 1s 46ms/step - loss: 6.7346e-04\n",
      "Epoch 76/250\n",
      "30/30 [==============================] - 1s 46ms/step - loss: 6.3891e-04\n",
      "Epoch 77/250\n",
      "30/30 [==============================] - 1s 46ms/step - loss: 6.1087e-04\n",
      "Epoch 78/250\n",
      "30/30 [==============================] - 1s 45ms/step - loss: 6.4947e-04\n",
      "Epoch 79/250\n",
      "30/30 [==============================] - 1s 46ms/step - loss: 6.8435e-04\n",
      "Epoch 80/250\n",
      "30/30 [==============================] - 1s 46ms/step - loss: 7.5845e-04\n",
      "Epoch 81/250\n",
      "30/30 [==============================] - 1s 46ms/step - loss: 6.8215e-04\n",
      "Epoch 82/250\n",
      "30/30 [==============================] - 1s 46ms/step - loss: 6.9730e-04\n",
      "Epoch 83/250\n",
      "30/30 [==============================] - 1s 46ms/step - loss: 6.6062e-04\n",
      "Epoch 84/250\n",
      "30/30 [==============================] - 1s 46ms/step - loss: 6.5764e-04\n",
      "Epoch 85/250\n",
      "30/30 [==============================] - 1s 46ms/step - loss: 6.2162e-04\n",
      "Epoch 86/250\n",
      "30/30 [==============================] - 1s 47ms/step - loss: 6.7609e-04\n",
      "Epoch 87/250\n",
      "30/30 [==============================] - 1s 46ms/step - loss: 6.5798e-04\n",
      "Epoch 88/250\n",
      "30/30 [==============================] - 1s 45ms/step - loss: 6.2765e-04\n",
      "Epoch 89/250\n",
      "30/30 [==============================] - 1s 46ms/step - loss: 6.0931e-04\n",
      "Epoch 90/250\n",
      "30/30 [==============================] - 1s 46ms/step - loss: 6.2841e-04\n",
      "Epoch 91/250\n",
      "30/30 [==============================] - 1s 47ms/step - loss: 6.5272e-04\n",
      "Epoch 92/250\n",
      "30/30 [==============================] - 1s 45ms/step - loss: 6.3689e-04\n",
      "Epoch 93/250\n",
      "30/30 [==============================] - 1s 46ms/step - loss: 6.8600e-04\n",
      "Epoch 94/250\n",
      "30/30 [==============================] - 1s 46ms/step - loss: 6.8725e-04\n",
      "Epoch 95/250\n",
      "30/30 [==============================] - 1s 47ms/step - loss: 6.0239e-04\n",
      "Epoch 96/250\n",
      "30/30 [==============================] - 1s 45ms/step - loss: 6.5014e-04\n",
      "Epoch 97/250\n"
     ]
    },
    {
     "name": "stdout",
     "output_type": "stream",
     "text": [
      "30/30 [==============================] - 1s 46ms/step - loss: 6.3889e-04\n",
      "Epoch 98/250\n",
      "30/30 [==============================] - 1s 47ms/step - loss: 6.2836e-04\n",
      "Epoch 99/250\n",
      "30/30 [==============================] - 1s 47ms/step - loss: 6.3601e-04\n",
      "Epoch 100/250\n",
      "30/30 [==============================] - 1s 47ms/step - loss: 6.3481e-04\n",
      "Epoch 101/250\n",
      "30/30 [==============================] - 1s 47ms/step - loss: 6.4034e-04\n",
      "Epoch 102/250\n",
      "30/30 [==============================] - 1s 47ms/step - loss: 5.9316e-04\n",
      "Epoch 103/250\n",
      "30/30 [==============================] - 1s 47ms/step - loss: 6.7905e-04\n",
      "Epoch 104/250\n",
      "30/30 [==============================] - 2s 55ms/step - loss: 6.3940e-04\n",
      "Epoch 105/250\n",
      "30/30 [==============================] - 2s 51ms/step - loss: 6.0263e-04\n",
      "Epoch 106/250\n",
      "30/30 [==============================] - 2s 64ms/step - loss: 6.1899e-04\n",
      "Epoch 107/250\n",
      "30/30 [==============================] - 2s 54ms/step - loss: 6.8978e-04\n",
      "Epoch 108/250\n",
      "30/30 [==============================] - 1s 47ms/step - loss: 7.0000e-04\n",
      "Epoch 109/250\n",
      "30/30 [==============================] - 2s 52ms/step - loss: 6.6065e-04\n",
      "Epoch 110/250\n",
      "30/30 [==============================] - 2s 51ms/step - loss: 5.9951e-04\n",
      "Epoch 111/250\n",
      "30/30 [==============================] - 2s 54ms/step - loss: 5.7268e-04\n",
      "Epoch 112/250\n",
      "30/30 [==============================] - 1s 48ms/step - loss: 6.0397e-04\n",
      "Epoch 113/250\n",
      "30/30 [==============================] - 1s 46ms/step - loss: 6.2379e-04\n",
      "Epoch 114/250\n",
      "30/30 [==============================] - 1s 46ms/step - loss: 6.8413e-04\n",
      "Epoch 115/250\n",
      "30/30 [==============================] - 1s 46ms/step - loss: 6.0943e-04\n",
      "Epoch 116/250\n",
      "30/30 [==============================] - 1s 47ms/step - loss: 6.6663e-04\n",
      "Epoch 117/250\n",
      "30/30 [==============================] - 1s 46ms/step - loss: 6.8243e-04\n",
      "Epoch 118/250\n",
      "30/30 [==============================] - 1s 46ms/step - loss: 6.3679e-04\n",
      "Epoch 119/250\n",
      "30/30 [==============================] - 1s 47ms/step - loss: 6.0701e-04\n",
      "Epoch 120/250\n",
      "30/30 [==============================] - 1s 50ms/step - loss: 6.3094e-04\n",
      "Epoch 121/250\n",
      "30/30 [==============================] - 1s 46ms/step - loss: 7.0376e-04\n",
      "Epoch 122/250\n",
      "30/30 [==============================] - 1s 46ms/step - loss: 6.6487e-04\n",
      "Epoch 123/250\n",
      "30/30 [==============================] - 1s 46ms/step - loss: 6.1025e-04\n",
      "Epoch 124/250\n",
      "30/30 [==============================] - 1s 46ms/step - loss: 6.2483e-04\n",
      "Epoch 125/250\n",
      "30/30 [==============================] - 1s 47ms/step - loss: 6.1983e-04\n",
      "Epoch 126/250\n",
      "30/30 [==============================] - 1s 46ms/step - loss: 5.8308e-04\n",
      "Epoch 127/250\n",
      "30/30 [==============================] - 1s 46ms/step - loss: 5.6800e-04\n",
      "Epoch 128/250\n",
      "30/30 [==============================] - 1s 46ms/step - loss: 7.1495e-04\n",
      "Epoch 129/250\n",
      "30/30 [==============================] - 1s 46ms/step - loss: 7.1162e-04\n",
      "Epoch 130/250\n",
      "30/30 [==============================] - 1s 46ms/step - loss: 6.9037e-04\n",
      "Epoch 131/250\n",
      "30/30 [==============================] - 1s 45ms/step - loss: 5.5928e-04\n",
      "Epoch 132/250\n",
      "30/30 [==============================] - 1s 46ms/step - loss: 5.8562e-04\n",
      "Epoch 133/250\n",
      "30/30 [==============================] - 1s 47ms/step - loss: 6.7441e-04\n",
      "Epoch 134/250\n",
      "30/30 [==============================] - 1s 47ms/step - loss: 5.8782e-04\n",
      "Epoch 135/250\n",
      "30/30 [==============================] - 1s 49ms/step - loss: 6.5950e-04\n",
      "Epoch 136/250\n",
      "30/30 [==============================] - 1s 50ms/step - loss: 5.8918e-04\n",
      "Epoch 137/250\n",
      "30/30 [==============================] - 2s 51ms/step - loss: 5.5937e-04\n",
      "Epoch 138/250\n",
      "30/30 [==============================] - 1s 48ms/step - loss: 6.3883e-04\n",
      "Epoch 139/250\n",
      "30/30 [==============================] - 1s 49ms/step - loss: 5.9608e-04\n",
      "Epoch 140/250\n",
      "30/30 [==============================] - 1s 47ms/step - loss: 6.0434e-04\n",
      "Epoch 141/250\n",
      "30/30 [==============================] - 1s 47ms/step - loss: 5.5778e-04\n",
      "Epoch 142/250\n",
      "30/30 [==============================] - 1s 48ms/step - loss: 5.8825e-04\n",
      "Epoch 143/250\n",
      "30/30 [==============================] - 1s 46ms/step - loss: 5.7111e-04\n",
      "Epoch 144/250\n",
      "30/30 [==============================] - 1s 47ms/step - loss: 6.5166e-04\n",
      "Epoch 145/250\n",
      "30/30 [==============================] - 1s 47ms/step - loss: 5.9619e-04\n",
      "Epoch 146/250\n",
      "30/30 [==============================] - 1s 47ms/step - loss: 6.0703e-04\n",
      "Epoch 147/250\n",
      "30/30 [==============================] - 1s 46ms/step - loss: 6.3779e-04\n",
      "Epoch 148/250\n",
      "30/30 [==============================] - 1s 46ms/step - loss: 6.1654e-04\n",
      "Epoch 149/250\n",
      "30/30 [==============================] - 1s 46ms/step - loss: 6.0412e-04\n",
      "Epoch 150/250\n",
      "30/30 [==============================] - 1s 47ms/step - loss: 6.2292e-04\n",
      "Epoch 151/250\n",
      "30/30 [==============================] - 1s 47ms/step - loss: 5.7962e-04\n",
      "Epoch 152/250\n",
      "30/30 [==============================] - 1s 46ms/step - loss: 5.7431e-04\n",
      "Epoch 153/250\n",
      "30/30 [==============================] - 1s 47ms/step - loss: 5.9387e-04\n",
      "Epoch 154/250\n",
      "30/30 [==============================] - 1s 46ms/step - loss: 6.5861e-04\n",
      "Epoch 155/250\n",
      "30/30 [==============================] - 1s 47ms/step - loss: 6.4881e-04\n",
      "Epoch 156/250\n",
      "30/30 [==============================] - 1s 46ms/step - loss: 6.3206e-04\n",
      "Epoch 157/250\n",
      "30/30 [==============================] - 1s 46ms/step - loss: 6.4733e-04\n",
      "Epoch 158/250\n",
      "30/30 [==============================] - 1s 46ms/step - loss: 6.0162e-04\n",
      "Epoch 159/250\n",
      "30/30 [==============================] - 1s 46ms/step - loss: 6.1197e-04\n",
      "Epoch 160/250\n",
      "30/30 [==============================] - 1s 46ms/step - loss: 6.4909e-04\n",
      "Epoch 161/250\n",
      "30/30 [==============================] - 1s 46ms/step - loss: 6.7119e-04\n",
      "Epoch 162/250\n",
      "30/30 [==============================] - 1s 48ms/step - loss: 5.8393e-04\n",
      "Epoch 163/250\n",
      "30/30 [==============================] - 1s 48ms/step - loss: 5.9697e-04\n",
      "Epoch 164/250\n",
      "30/30 [==============================] - 1s 46ms/step - loss: 5.5559e-04\n",
      "Epoch 165/250\n",
      "30/30 [==============================] - 1s 48ms/step - loss: 6.1336e-04\n",
      "Epoch 166/250\n",
      "30/30 [==============================] - 1s 47ms/step - loss: 6.2949e-04\n",
      "Epoch 167/250\n",
      "30/30 [==============================] - 1s 50ms/step - loss: 5.8716e-04\n",
      "Epoch 168/250\n",
      "30/30 [==============================] - 2s 51ms/step - loss: 7.0323e-04\n",
      "Epoch 169/250\n",
      "30/30 [==============================] - 2s 51ms/step - loss: 5.7530e-04\n",
      "Epoch 170/250\n",
      "30/30 [==============================] - 2s 50ms/step - loss: 6.0261e-04\n",
      "Epoch 171/250\n",
      "30/30 [==============================] - 2s 51ms/step - loss: 5.7832e-04\n",
      "Epoch 172/250\n",
      "30/30 [==============================] - 1s 49ms/step - loss: 6.0069e-04\n",
      "Epoch 173/250\n",
      "30/30 [==============================] - 1s 47ms/step - loss: 5.7469e-04\n",
      "Epoch 174/250\n",
      "30/30 [==============================] - 1s 47ms/step - loss: 5.8146e-04\n",
      "Epoch 175/250\n",
      "30/30 [==============================] - 1s 48ms/step - loss: 5.8400e-04\n",
      "Epoch 176/250\n",
      "30/30 [==============================] - 1s 48ms/step - loss: 5.8015e-04\n",
      "Epoch 177/250\n",
      "30/30 [==============================] - 1s 46ms/step - loss: 5.8728e-04\n",
      "Epoch 178/250\n",
      "30/30 [==============================] - 1s 47ms/step - loss: 6.4780e-04\n",
      "Epoch 179/250\n",
      "30/30 [==============================] - 1s 48ms/step - loss: 5.6178e-04\n",
      "Epoch 180/250\n",
      "30/30 [==============================] - 1s 47ms/step - loss: 5.8831e-04\n",
      "Epoch 181/250\n",
      "30/30 [==============================] - 1s 47ms/step - loss: 5.6557e-04\n",
      "Epoch 182/250\n",
      "30/30 [==============================] - 1s 47ms/step - loss: 6.2228e-04\n",
      "Epoch 183/250\n",
      "30/30 [==============================] - 1s 48ms/step - loss: 6.1980e-04\n",
      "Epoch 184/250\n",
      "30/30 [==============================] - 1s 47ms/step - loss: 6.4101e-04\n",
      "Epoch 185/250\n",
      "30/30 [==============================] - 2s 52ms/step - loss: 6.4434e-04\n",
      "Epoch 186/250\n",
      "30/30 [==============================] - 2s 52ms/step - loss: 5.1723e-04\n",
      "Epoch 187/250\n",
      "30/30 [==============================] - 2s 53ms/step - loss: 5.2623e-04\n",
      "Epoch 188/250\n",
      "30/30 [==============================] - 2s 53ms/step - loss: 5.8921e-04\n",
      "Epoch 189/250\n",
      "30/30 [==============================] - 2s 52ms/step - loss: 6.0291e-04\n",
      "Epoch 190/250\n",
      "30/30 [==============================] - 2s 53ms/step - loss: 5.7139e-04\n",
      "Epoch 191/250\n"
     ]
    },
    {
     "name": "stdout",
     "output_type": "stream",
     "text": [
      "30/30 [==============================] - 2s 50ms/step - loss: 5.6152e-04\n",
      "Epoch 192/250\n",
      "30/30 [==============================] - 2s 51ms/step - loss: 5.7113e-04\n",
      "Epoch 193/250\n",
      "30/30 [==============================] - 1s 47ms/step - loss: 5.5849e-04\n",
      "Epoch 194/250\n",
      "30/30 [==============================] - 1s 46ms/step - loss: 5.7340e-04\n",
      "Epoch 195/250\n",
      "30/30 [==============================] - 1s 45ms/step - loss: 6.0472e-04\n",
      "Epoch 196/250\n",
      "30/30 [==============================] - 1s 45ms/step - loss: 5.8056e-04\n",
      "Epoch 197/250\n",
      "30/30 [==============================] - 1s 49ms/step - loss: 6.0806e-04\n",
      "Epoch 198/250\n",
      "30/30 [==============================] - 1s 47ms/step - loss: 5.6615e-04\n",
      "Epoch 199/250\n",
      "30/30 [==============================] - 1s 46ms/step - loss: 6.7408e-04\n",
      "Epoch 200/250\n",
      "30/30 [==============================] - 1s 48ms/step - loss: 5.7308e-04\n",
      "Epoch 201/250\n",
      "30/30 [==============================] - 1s 47ms/step - loss: 6.3356e-04\n",
      "Epoch 202/250\n",
      "30/30 [==============================] - 1s 45ms/step - loss: 6.1129e-04\n",
      "Epoch 203/250\n",
      "30/30 [==============================] - 1s 46ms/step - loss: 5.6890e-04\n",
      "Epoch 204/250\n",
      "30/30 [==============================] - 1s 47ms/step - loss: 6.5661e-04\n",
      "Epoch 205/250\n",
      "30/30 [==============================] - 1s 46ms/step - loss: 5.6816e-04\n",
      "Epoch 206/250\n",
      "30/30 [==============================] - 1s 46ms/step - loss: 6.4253e-04\n",
      "Epoch 207/250\n",
      "30/30 [==============================] - 1s 46ms/step - loss: 5.9493e-04\n",
      "Epoch 208/250\n",
      "30/30 [==============================] - 1s 47ms/step - loss: 6.1523e-04\n",
      "Epoch 209/250\n",
      "30/30 [==============================] - 1s 47ms/step - loss: 5.7432e-04\n",
      "Epoch 210/250\n",
      "30/30 [==============================] - 1s 46ms/step - loss: 5.9467e-04\n",
      "Epoch 211/250\n",
      "30/30 [==============================] - 1s 47ms/step - loss: 5.9048e-04\n",
      "Epoch 212/250\n",
      "30/30 [==============================] - 1s 46ms/step - loss: 5.2687e-04\n",
      "Epoch 213/250\n",
      "30/30 [==============================] - 1s 46ms/step - loss: 5.6038e-04\n",
      "Epoch 214/250\n",
      "30/30 [==============================] - 1s 46ms/step - loss: 5.3976e-04\n",
      "Epoch 215/250\n",
      "30/30 [==============================] - 1s 47ms/step - loss: 6.1264e-04\n",
      "Epoch 216/250\n",
      "30/30 [==============================] - 1s 47ms/step - loss: 5.7747e-04\n",
      "Epoch 217/250\n",
      "30/30 [==============================] - 1s 49ms/step - loss: 5.8979e-04\n",
      "Epoch 218/250\n",
      "30/30 [==============================] - 1s 50ms/step - loss: 6.2446e-04\n",
      "Epoch 219/250\n",
      "30/30 [==============================] - 1s 49ms/step - loss: 6.4084e-04\n",
      "Epoch 220/250\n",
      "30/30 [==============================] - 1s 48ms/step - loss: 5.8558e-04\n",
      "Epoch 221/250\n",
      "30/30 [==============================] - 1s 47ms/step - loss: 5.7004e-04\n",
      "Epoch 222/250\n",
      "30/30 [==============================] - 1s 47ms/step - loss: 6.2878e-04\n",
      "Epoch 223/250\n",
      "30/30 [==============================] - 1s 46ms/step - loss: 5.8198e-04\n",
      "Epoch 224/250\n",
      "30/30 [==============================] - 1s 46ms/step - loss: 6.1657e-04\n",
      "Epoch 225/250\n",
      "30/30 [==============================] - 1s 46ms/step - loss: 5.7322e-04\n",
      "Epoch 226/250\n",
      "30/30 [==============================] - 1s 46ms/step - loss: 5.6005e-04\n",
      "Epoch 227/250\n",
      "30/30 [==============================] - 1s 46ms/step - loss: 6.1944e-04\n",
      "Epoch 228/250\n",
      "30/30 [==============================] - 1s 46ms/step - loss: 6.0240e-04\n",
      "Epoch 229/250\n",
      "30/30 [==============================] - 1s 46ms/step - loss: 5.5543e-04\n",
      "Epoch 230/250\n",
      "30/30 [==============================] - 1s 46ms/step - loss: 6.0931e-04\n",
      "Epoch 231/250\n",
      "30/30 [==============================] - 1s 46ms/step - loss: 6.0372e-04\n",
      "Epoch 232/250\n",
      "30/30 [==============================] - 1s 46ms/step - loss: 6.1107e-04\n",
      "Epoch 233/250\n",
      "30/30 [==============================] - 1s 46ms/step - loss: 6.0132e-04\n",
      "Epoch 234/250\n",
      "30/30 [==============================] - 1s 46ms/step - loss: 5.1134e-04\n",
      "Epoch 235/250\n",
      "30/30 [==============================] - 1s 46ms/step - loss: 5.7165e-04\n",
      "Epoch 236/250\n",
      "30/30 [==============================] - 1s 47ms/step - loss: 6.2387e-04\n",
      "Epoch 237/250\n",
      "30/30 [==============================] - 1s 46ms/step - loss: 5.5870e-04\n",
      "Epoch 238/250\n",
      "30/30 [==============================] - 1s 46ms/step - loss: 5.4255e-04\n",
      "Epoch 239/250\n",
      "30/30 [==============================] - 1s 46ms/step - loss: 5.6584e-04\n",
      "Epoch 240/250\n",
      "30/30 [==============================] - 1s 47ms/step - loss: 5.6969e-04\n",
      "Epoch 241/250\n",
      "30/30 [==============================] - 1s 46ms/step - loss: 5.8010e-04\n",
      "Epoch 242/250\n",
      "30/30 [==============================] - 1s 46ms/step - loss: 6.0069e-04\n",
      "Epoch 243/250\n",
      "30/30 [==============================] - 1s 46ms/step - loss: 6.2635e-04\n",
      "Epoch 244/250\n",
      "30/30 [==============================] - 1s 47ms/step - loss: 5.7081e-04\n",
      "Epoch 245/250\n",
      "30/30 [==============================] - 1s 47ms/step - loss: 5.6796e-04\n",
      "Epoch 246/250\n",
      "30/30 [==============================] - 1s 46ms/step - loss: 5.9048e-04\n",
      "Epoch 247/250\n",
      "30/30 [==============================] - 1s 47ms/step - loss: 5.8460e-04\n",
      "Epoch 248/250\n",
      "30/30 [==============================] - 1s 46ms/step - loss: 5.7819e-04\n",
      "Epoch 249/250\n",
      "30/30 [==============================] - 1s 46ms/step - loss: 5.5150e-04\n",
      "Epoch 250/250\n",
      "30/30 [==============================] - 1s 46ms/step - loss: 5.8702e-04\n"
     ]
    },
    {
     "data": {
      "text/plain": [
       "<keras.callbacks.History at 0x14bb8270af0>"
      ]
     },
     "execution_count": 13,
     "metadata": {},
     "output_type": "execute_result"
    }
   ],
   "source": [
    "model.compile(loss='mean_squared_error', optimizer='adam')\n",
    "model.fit(X_train, y_train, epochs=250, batch_size=32)"
   ]
  },
  {
   "cell_type": "markdown",
   "metadata": {
    "_uuid": "196ad0d14903e62a8643ebbd85ed7b5e4db96326"
   },
   "source": [
    "<a id=\"33\"></a>\n",
    "### Predictions and Visualising RNN Model"
   ]
  },
  {
   "cell_type": "code",
   "execution_count": 14,
   "metadata": {
    "_uuid": "b6e8d81b9cfcc60fbad0027326dd67131e6276eb"
   },
   "outputs": [
    {
     "name": "stdout",
     "output_type": "stream",
     "text": [
      "1/1 [==============================] - 1s 918ms/step\n"
     ]
    },
    {
     "data": {
      "text/plain": [
       "array([0.23123563, 0.22935396, 0.23374451, 0.23081748, 0.21931842,\n",
       "       0.23478988, 0.2314447 , 0.22140916, 0.2393895 , 0.22245453,\n",
       "       0.2059377 , 0.19506586, 0.1875392 , 0.20196529, 0.19506586,\n",
       "       0.18293958, 0.18670291, 0.18942087, 0.20426511, 0.19903826,\n",
       "       0.18774828, 0.20259252, 0.21200084, 0.18962994, 0.18983901,\n",
       "       0.18586661, 0.1875392 , 0.18043069, 0.1835668 , 0.16224127,\n",
       "       0.15847794, 0.14990592, 0.13861593, 0.1436337 , 0.14802425,\n",
       "       0.15304202, 0.14405185, 0.13798871, 0.13255279, 0.1308802 ,\n",
       "       0.12711687, 0.11791762, 0.11645411, 0.11540874, 0.11457244,\n",
       "       0.10390968, 0.1093456 , 0.10620949, 0.10202802, 0.0997282 ,\n",
       "       0.1055297 ])"
      ]
     },
     "execution_count": 14,
     "metadata": {},
     "output_type": "execute_result"
    }
   ],
   "source": [
    "predicted_stock_price = []\n",
    "\n",
    "#1\n",
    "X_test = X_train[(N-51),:] # the last \n",
    "X_test = np.array(X_test)\n",
    "X_test = np.reshape(X_test, (1, X_test.shape[0], X_test.shape[1]))\n",
    "a = model.predict(X_test)\n",
    "predicted_stock_price = np.append(predicted_stock_price, a)\n",
    "X_test = np.append(X_test, predicted_stock_price) \n",
    "X_test"
   ]
  },
  {
   "cell_type": "code",
   "execution_count": 15,
   "metadata": {
    "_uuid": "2f17bd184ee0b563fa94d13881529949d794dacd"
   },
   "outputs": [
    {
     "name": "stdout",
     "output_type": "stream",
     "text": [
      "1/1 [==============================] - 0s 97ms/step\n",
      "1/1 [==============================] - 0s 56ms/step\n",
      "1/1 [==============================] - 0s 29ms/step\n",
      "1/1 [==============================] - 0s 22ms/step\n",
      "1/1 [==============================] - 0s 21ms/step\n",
      "1/1 [==============================] - 0s 21ms/step\n",
      "1/1 [==============================] - 0s 20ms/step\n",
      "1/1 [==============================] - 0s 23ms/step\n",
      "1/1 [==============================] - 0s 20ms/step\n",
      "1/1 [==============================] - 0s 21ms/step\n",
      "1/1 [==============================] - 0s 21ms/step\n",
      "1/1 [==============================] - 0s 21ms/step\n",
      "1/1 [==============================] - 0s 21ms/step\n",
      "1/1 [==============================] - 0s 23ms/step\n",
      "1/1 [==============================] - 0s 21ms/step\n",
      "1/1 [==============================] - 0s 20ms/step\n",
      "1/1 [==============================] - 0s 20ms/step\n",
      "1/1 [==============================] - 0s 20ms/step\n",
      "1/1 [==============================] - 0s 22ms/step\n",
      "1/1 [==============================] - 0s 29ms/step\n",
      "1/1 [==============================] - 0s 21ms/step\n",
      "1/1 [==============================] - 0s 21ms/step\n",
      "1/1 [==============================] - 0s 20ms/step\n",
      "1/1 [==============================] - 0s 21ms/step\n",
      "1/1 [==============================] - 0s 20ms/step\n",
      "1/1 [==============================] - 0s 21ms/step\n",
      "1/1 [==============================] - 0s 20ms/step\n",
      "1/1 [==============================] - 0s 21ms/step\n",
      "1/1 [==============================] - 0s 20ms/step\n",
      "1/1 [==============================] - 0s 21ms/step\n",
      "1/1 [==============================] - 0s 23ms/step\n",
      "1/1 [==============================] - 0s 20ms/step\n",
      "1/1 [==============================] - 0s 21ms/step\n",
      "1/1 [==============================] - 0s 21ms/step\n",
      "1/1 [==============================] - 0s 22ms/step\n",
      "1/1 [==============================] - 0s 22ms/step\n",
      "1/1 [==============================] - 0s 21ms/step\n",
      "1/1 [==============================] - 0s 21ms/step\n",
      "1/1 [==============================] - 0s 21ms/step\n",
      "1/1 [==============================] - 0s 21ms/step\n",
      "1/1 [==============================] - 0s 22ms/step\n",
      "1/1 [==============================] - 0s 22ms/step\n",
      "1/1 [==============================] - 0s 21ms/step\n",
      "1/1 [==============================] - 0s 21ms/step\n",
      "1/1 [==============================] - 0s 22ms/step\n",
      "1/1 [==============================] - 0s 20ms/step\n",
      "1/1 [==============================] - 0s 22ms/step\n",
      "1/1 [==============================] - 0s 21ms/step\n",
      "1/1 [==============================] - 0s 21ms/step\n",
      "1/1 [==============================] - 0s 22ms/step\n",
      "1/1 [==============================] - 0s 21ms/step\n",
      "1/1 [==============================] - 0s 22ms/step\n",
      "1/1 [==============================] - 0s 22ms/step\n",
      "1/1 [==============================] - 0s 20ms/step\n",
      "1/1 [==============================] - 0s 22ms/step\n",
      "1/1 [==============================] - 0s 21ms/step\n",
      "1/1 [==============================] - 0s 21ms/step\n",
      "1/1 [==============================] - 0s 23ms/step\n",
      "1/1 [==============================] - 0s 21ms/step\n",
      "1/1 [==============================] - 0s 21ms/step\n",
      "1/1 [==============================] - 0s 23ms/step\n",
      "1/1 [==============================] - 0s 24ms/step\n",
      "1/1 [==============================] - 0s 21ms/step\n",
      "1/1 [==============================] - 0s 21ms/step\n",
      "1/1 [==============================] - 0s 21ms/step\n",
      "1/1 [==============================] - 0s 21ms/step\n",
      "1/1 [==============================] - 0s 21ms/step\n",
      "1/1 [==============================] - 0s 25ms/step\n",
      "1/1 [==============================] - 0s 23ms/step\n",
      "1/1 [==============================] - 0s 21ms/step\n",
      "1/1 [==============================] - 0s 21ms/step\n",
      "1/1 [==============================] - 0s 20ms/step\n",
      "1/1 [==============================] - 0s 20ms/step\n",
      "1/1 [==============================] - 0s 21ms/step\n",
      "1/1 [==============================] - 0s 20ms/step\n",
      "1/1 [==============================] - 0s 21ms/step\n",
      "1/1 [==============================] - 0s 21ms/step\n",
      "1/1 [==============================] - 0s 20ms/step\n",
      "1/1 [==============================] - 0s 20ms/step\n",
      "1/1 [==============================] - 0s 22ms/step\n",
      "1/1 [==============================] - 0s 21ms/step\n",
      "1/1 [==============================] - 0s 23ms/step\n",
      "1/1 [==============================] - 0s 21ms/step\n",
      "1/1 [==============================] - 0s 21ms/step\n",
      "1/1 [==============================] - 0s 21ms/step\n",
      "1/1 [==============================] - 0s 21ms/step\n",
      "1/1 [==============================] - 0s 22ms/step\n",
      "1/1 [==============================] - 0s 20ms/step\n",
      "1/1 [==============================] - 0s 23ms/step\n",
      "1/1 [==============================] - 0s 24ms/step\n",
      "1/1 [==============================] - 0s 20ms/step\n",
      "1/1 [==============================] - 0s 21ms/step\n",
      "1/1 [==============================] - 0s 20ms/step\n",
      "1/1 [==============================] - 0s 22ms/step\n",
      "1/1 [==============================] - 0s 22ms/step\n",
      "1/1 [==============================] - 0s 21ms/step\n",
      "1/1 [==============================] - 0s 22ms/step\n",
      "1/1 [==============================] - 0s 22ms/step\n",
      "1/1 [==============================] - 0s 22ms/step\n",
      "1/1 [==============================] - 0s 22ms/step\n",
      "1/1 [==============================] - 0s 21ms/step\n",
      "1/1 [==============================] - 0s 21ms/step\n",
      "1/1 [==============================] - 0s 21ms/step\n",
      "1/1 [==============================] - 0s 21ms/step\n",
      "1/1 [==============================] - 0s 20ms/step\n",
      "1/1 [==============================] - 0s 21ms/step\n",
      "1/1 [==============================] - 0s 23ms/step\n",
      "1/1 [==============================] - 0s 21ms/step\n",
      "1/1 [==============================] - 0s 21ms/step\n",
      "1/1 [==============================] - 0s 21ms/step\n",
      "1/1 [==============================] - 0s 21ms/step\n",
      "1/1 [==============================] - 0s 21ms/step\n",
      "1/1 [==============================] - 0s 21ms/step\n",
      "1/1 [==============================] - 0s 22ms/step\n",
      "1/1 [==============================] - 0s 21ms/step\n",
      "1/1 [==============================] - 0s 20ms/step\n",
      "1/1 [==============================] - 0s 21ms/step\n",
      "1/1 [==============================] - 0s 21ms/step\n",
      "1/1 [==============================] - 0s 23ms/step\n",
      "1/1 [==============================] - 0s 21ms/step\n",
      "1/1 [==============================] - 0s 21ms/step\n",
      "1/1 [==============================] - 0s 22ms/step\n",
      "1/1 [==============================] - 0s 20ms/step\n",
      "1/1 [==============================] - 0s 21ms/step\n",
      "1/1 [==============================] - 0s 27ms/step\n",
      "1/1 [==============================] - 0s 21ms/step\n",
      "1/1 [==============================] - 0s 21ms/step\n",
      "1/1 [==============================] - 0s 21ms/step\n",
      "1/1 [==============================] - 0s 21ms/step\n",
      "1/1 [==============================] - 0s 21ms/step\n",
      "1/1 [==============================] - 0s 20ms/step\n",
      "1/1 [==============================] - 0s 20ms/step\n",
      "1/1 [==============================] - 0s 21ms/step\n",
      "1/1 [==============================] - 0s 22ms/step\n",
      "1/1 [==============================] - 0s 20ms/step\n",
      "1/1 [==============================] - 0s 20ms/step\n",
      "1/1 [==============================] - 0s 21ms/step\n",
      "1/1 [==============================] - 0s 21ms/step\n",
      "1/1 [==============================] - 0s 21ms/step\n",
      "1/1 [==============================] - 0s 21ms/step\n",
      "1/1 [==============================] - 0s 22ms/step\n",
      "1/1 [==============================] - 0s 21ms/step\n",
      "1/1 [==============================] - 0s 21ms/step\n",
      "1/1 [==============================] - 0s 23ms/step\n",
      "1/1 [==============================] - 0s 22ms/step\n",
      "1/1 [==============================] - 0s 22ms/step\n",
      "1/1 [==============================] - 0s 20ms/step\n",
      "1/1 [==============================] - 0s 22ms/step\n",
      "1/1 [==============================] - 0s 21ms/step\n",
      "1/1 [==============================] - 0s 21ms/step\n",
      "1/1 [==============================] - 0s 21ms/step\n",
      "1/1 [==============================] - 0s 21ms/step\n",
      "1/1 [==============================] - 0s 21ms/step\n",
      "1/1 [==============================] - 0s 21ms/step\n",
      "1/1 [==============================] - 0s 21ms/step\n",
      "1/1 [==============================] - 0s 21ms/step\n",
      "1/1 [==============================] - 0s 20ms/step\n"
     ]
    },
    {
     "name": "stdout",
     "output_type": "stream",
     "text": [
      "1/1 [==============================] - 0s 22ms/step\n",
      "1/1 [==============================] - 0s 23ms/step\n",
      "1/1 [==============================] - 0s 20ms/step\n",
      "1/1 [==============================] - 0s 20ms/step\n",
      "1/1 [==============================] - 0s 21ms/step\n",
      "1/1 [==============================] - 0s 21ms/step\n",
      "1/1 [==============================] - 0s 21ms/step\n",
      "1/1 [==============================] - 0s 21ms/step\n",
      "1/1 [==============================] - 0s 22ms/step\n",
      "1/1 [==============================] - 0s 21ms/step\n",
      "1/1 [==============================] - 0s 21ms/step\n",
      "1/1 [==============================] - 0s 21ms/step\n",
      "1/1 [==============================] - 0s 21ms/step\n",
      "1/1 [==============================] - 0s 21ms/step\n",
      "1/1 [==============================] - 0s 21ms/step\n",
      "1/1 [==============================] - 0s 21ms/step\n",
      "1/1 [==============================] - 0s 20ms/step\n",
      "1/1 [==============================] - 0s 21ms/step\n",
      "1/1 [==============================] - 0s 21ms/step\n",
      "1/1 [==============================] - 0s 21ms/step\n",
      "1/1 [==============================] - 0s 22ms/step\n",
      "1/1 [==============================] - 0s 22ms/step\n",
      "1/1 [==============================] - 0s 21ms/step\n",
      "1/1 [==============================] - 0s 21ms/step\n",
      "1/1 [==============================] - 0s 21ms/step\n",
      "1/1 [==============================] - 0s 20ms/step\n",
      "1/1 [==============================] - 0s 21ms/step\n",
      "1/1 [==============================] - 0s 20ms/step\n",
      "1/1 [==============================] - 0s 22ms/step\n",
      "1/1 [==============================] - 0s 20ms/step\n",
      "1/1 [==============================] - 0s 21ms/step\n",
      "1/1 [==============================] - 0s 20ms/step\n",
      "1/1 [==============================] - 0s 20ms/step\n",
      "1/1 [==============================] - 0s 20ms/step\n",
      "1/1 [==============================] - 0s 21ms/step\n",
      "1/1 [==============================] - 0s 22ms/step\n",
      "1/1 [==============================] - 0s 21ms/step\n",
      "1/1 [==============================] - 0s 21ms/step\n",
      "1/1 [==============================] - 0s 24ms/step\n",
      "1/1 [==============================] - 0s 23ms/step\n",
      "1/1 [==============================] - 0s 21ms/step\n",
      "1/1 [==============================] - 0s 21ms/step\n",
      "1/1 [==============================] - 0s 21ms/step\n",
      "1/1 [==============================] - 0s 21ms/step\n",
      "1/1 [==============================] - 0s 21ms/step\n",
      "1/1 [==============================] - 0s 21ms/step\n",
      "1/1 [==============================] - 0s 20ms/step\n",
      "1/1 [==============================] - 0s 23ms/step\n",
      "1/1 [==============================] - 0s 20ms/step\n",
      "1/1 [==============================] - 0s 21ms/step\n",
      "1/1 [==============================] - 0s 22ms/step\n",
      "1/1 [==============================] - 0s 20ms/step\n",
      "1/1 [==============================] - 0s 21ms/step\n",
      "1/1 [==============================] - 0s 21ms/step\n",
      "1/1 [==============================] - 0s 20ms/step\n",
      "1/1 [==============================] - 0s 21ms/step\n",
      "1/1 [==============================] - 0s 22ms/step\n",
      "1/1 [==============================] - 0s 21ms/step\n",
      "1/1 [==============================] - 0s 22ms/step\n",
      "1/1 [==============================] - 0s 20ms/step\n",
      "1/1 [==============================] - 0s 21ms/step\n",
      "1/1 [==============================] - 0s 20ms/step\n",
      "1/1 [==============================] - 0s 20ms/step\n",
      "1/1 [==============================] - 0s 21ms/step\n",
      "1/1 [==============================] - 0s 22ms/step\n",
      "1/1 [==============================] - 0s 22ms/step\n",
      "1/1 [==============================] - 0s 20ms/step\n",
      "1/1 [==============================] - 0s 21ms/step\n"
     ]
    }
   ],
   "source": [
    "#2-7\n",
    "for i in range(1,(1226-N)):\n",
    "    X_test = X_test[1:51]\n",
    "    X_test = np.array(X_test)\n",
    "    X_test = np.reshape(X_test, (1, 50, 1))\n",
    "    a = model.predict(X_test)\n",
    "    predicted_stock_price = np.append(predicted_stock_price, a)  \n",
    "    X_test = np.append(X_test, predicted_stock_price[i])"
   ]
  },
  {
   "cell_type": "code",
   "execution_count": 16,
   "metadata": {
    "_uuid": "8b8fff02ba32289740e6b9ea73c4d26123aac4d4"
   },
   "outputs": [
    {
     "data": {
      "text/plain": [
       "(226, 1)"
      ]
     },
     "execution_count": 16,
     "metadata": {},
     "output_type": "execute_result"
    }
   ],
   "source": [
    "predicted_stock_price = scaler.inverse_transform(predicted_stock_price.reshape(-1,1))\n",
    "predicted_stock_price.shape"
   ]
  },
  {
   "cell_type": "code",
   "execution_count": 17,
   "metadata": {
    "_uuid": "5b507575d36c57afc6b1d14ef2bdf554c5aa1fe6"
   },
   "outputs": [
    {
     "data": {
      "image/png": "[encoded data removed]",
      "text/plain": [
       "<Figure size 432x288 with 1 Axes>"
      ]
     },
     "metadata": {
      "needs_background": "light"
     },
     "output_type": "display_data"
    }
   ],
   "source": [
    "# train part\n",
    "plt.plot(train[:N])\n",
    "plt.show()"
   ]
  },
  {
   "cell_type": "code",
   "execution_count": 18,
   "metadata": {
    "_uuid": "7747359fb4163eba1e7eed6936380074d02a9c01"
   },
   "outputs": [
    {
     "data": {
      "image/png": "[encoded data removed]",
      "text/plain": [
       "<Figure size 432x288 with 1 Axes>"
      ]
     },
     "metadata": {
      "needs_background": "light"
     },
     "output_type": "display_data"
    }
   ],
   "source": [
    "# we are going to predict \n",
    "plt.plot(train[N:], color = 'blue', label = 'Real Google Stock Price')\n",
    "#plt.title('Google Stock Price Prediction')\n",
    "plt.xlabel('Time')\n",
    "plt.ylabel('Google Stock Price')\n",
    "plt.legend()\n",
    "plt.show()"
   ]
  },
  {
   "cell_type": "code",
   "execution_count": 19,
   "metadata": {
    "_uuid": "6a6b1b137f09d27d33b1ddc4c9a8d8e981ae9479"
   },
   "outputs": [
    {
     "data": {
      "image/png": "[encoded data removed]",
      "text/plain": [
       "<Figure size 432x288 with 1 Axes>"
      ]
     },
     "metadata": {
      "needs_background": "light"
     },
     "output_type": "display_data"
    }
   ],
   "source": [
    "# Visualising the results\n",
    "# plt.plot(train[1216:].reshape(-1,1), color = 'blue', label = 'Real Google Stock Price')\n",
    "plt.plot(predicted_stock_price, color = 'red', label = 'Predicted Google Stock Price')\n",
    "plt.title('Google Stock Price Prediction')\n",
    "plt.xlabel('Time')\n",
    "plt.ylabel('Google Stock Price')\n",
    "plt.legend()\n",
    "plt.show()"
   ]
  },
  {
   "cell_type": "code",
   "execution_count": null,
   "metadata": {
    "_uuid": "d510866bdc15916e813086c306e89dc02a1db90c"
   },
   "outputs": [],
   "source": []
  }
 ],
 "metadata": {
  "kernelspec": {
   "display_name": "Python 3",
   "language": "python",
   "name": "python3"
  },
  "language_info": {
   "codemirror_mode": {
    "name": "ipython",
    "version": 3
   },
   "file_extension": ".py",
   "mimetype": "text/x-python",
   "name": "python",
   "nbconvert_exporter": "python",
   "pygments_lexer": "ipython3",
   "version": "3.8.3"
  }
 },
 "nbformat": 4,
 "nbformat_minor": 1
}
