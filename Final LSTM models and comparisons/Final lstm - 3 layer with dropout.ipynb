{
  "cells": [
    {
      "cell_type": "markdown",
      "metadata": {
        "id": "Ixq1oj7SijDq"
      },
      "source": [
        "# Stock Market Analysis \n"
      ]
    },
    {
      "cell_type": "markdown",
      "metadata": {
        "id": "vS9yry7pijDx"
      },
      "source": [
        "# 1. The change in price of the stock overtime\n"
      ]
    },
    {
      "cell_type": "code",
      "execution_count": 1,
      "metadata": {
        "execution": {
          "iopub.execute_input": "2022-05-16T18:03:05.026531Z",
          "iopub.status.busy": "2022-05-16T18:03:05.026241Z",
          "iopub.status.idle": "2022-05-16T18:03:05.038951Z",
          "shell.execute_reply": "2022-05-16T18:03:05.037826Z",
          "shell.execute_reply.started": "2022-05-16T18:03:05.026488Z"
        },
        "colab": {
          "base_uri": "https://localhost:8080/",
          "height": 1253
        },
        "id": "KP-If-ErijDy",
        "outputId": "7efa203d-eda7-4746-e507-ba80ef0bae93"
      },
      "outputs": [
        {
          "output_type": "stream",
          "name": "stdout",
          "text": [
            "Looking in indexes: https://pypi.org/simple, https://us-python.pkg.dev/colab-wheels/public/simple/\n",
            "Collecting yfinance\n",
            "  Downloading yfinance-0.2.12-py2.py3-none-any.whl (59 kB)\n",
            "\u001b[2K     \u001b[90m━━━━━━━━━━━━━━━━━━━━━━━━━━━━━━━━━━━━━━━━\u001b[0m \u001b[32m59.2/59.2 KB\u001b[0m \u001b[31m2.0 MB/s\u001b[0m eta \u001b[36m0:00:00\u001b[0m\n",
            "\u001b[?25hRequirement already satisfied: appdirs>=1.4.4 in /usr/local/lib/python3.8/dist-packages (from yfinance) (1.4.4)\n",
            "Requirement already satisfied: pandas>=1.3.0 in /usr/local/lib/python3.8/dist-packages (from yfinance) (1.3.5)\n",
            "Requirement already satisfied: lxml>=4.9.1 in /usr/local/lib/python3.8/dist-packages (from yfinance) (4.9.2)\n",
            "Requirement already satisfied: pytz>=2022.5 in /usr/local/lib/python3.8/dist-packages (from yfinance) (2022.7.1)\n",
            "Collecting cryptography>=3.3.2\n",
            "  Downloading cryptography-39.0.2-cp36-abi3-manylinux_2_28_x86_64.whl (4.2 MB)\n",
            "\u001b[2K     \u001b[90m━━━━━━━━━━━━━━━━━━━━━━━━━━━━━━━━━━━━━━━━\u001b[0m \u001b[32m4.2/4.2 MB\u001b[0m \u001b[31m19.5 MB/s\u001b[0m eta \u001b[36m0:00:00\u001b[0m\n",
            "\u001b[?25hRequirement already satisfied: numpy>=1.16.5 in /usr/local/lib/python3.8/dist-packages (from yfinance) (1.22.4)\n",
            "Collecting beautifulsoup4>=4.11.1\n",
            "  Downloading beautifulsoup4-4.11.2-py3-none-any.whl (129 kB)\n",
            "\u001b[2K     \u001b[90m━━━━━━━━━━━━━━━━━━━━━━━━━━━━━━━━━━━━━━━\u001b[0m \u001b[32m129.4/129.4 KB\u001b[0m \u001b[31m6.9 MB/s\u001b[0m eta \u001b[36m0:00:00\u001b[0m\n",
            "\u001b[?25hCollecting frozendict>=2.3.4\n",
            "  Downloading frozendict-2.3.5-cp38-cp38-manylinux_2_17_x86_64.manylinux2014_x86_64.whl (111 kB)\n",
            "\u001b[2K     \u001b[90m━━━━━━━━━━━━━━━━━━━━━━━━━━━━━━━━━━━━━━━\u001b[0m \u001b[32m111.2/111.2 KB\u001b[0m \u001b[31m4.8 MB/s\u001b[0m eta \u001b[36m0:00:00\u001b[0m\n",
            "\u001b[?25hRequirement already satisfied: multitasking>=0.0.7 in /usr/local/lib/python3.8/dist-packages (from yfinance) (0.0.11)\n",
            "Collecting requests>=2.26\n",
            "  Downloading requests-2.28.2-py3-none-any.whl (62 kB)\n",
            "\u001b[2K     \u001b[90m━━━━━━━━━━━━━━━━━━━━━━━━━━━━━━━━━━━━━━━━\u001b[0m \u001b[32m62.8/62.8 KB\u001b[0m \u001b[31m3.0 MB/s\u001b[0m eta \u001b[36m0:00:00\u001b[0m\n",
            "\u001b[?25hCollecting html5lib>=1.1\n",
            "  Downloading html5lib-1.1-py2.py3-none-any.whl (112 kB)\n",
            "\u001b[2K     \u001b[90m━━━━━━━━━━━━━━━━━━━━━━━━━━━━━━━━━━━━━━\u001b[0m \u001b[32m112.2/112.2 KB\u001b[0m \u001b[31m10.0 MB/s\u001b[0m eta \u001b[36m0:00:00\u001b[0m\n",
            "\u001b[?25hCollecting soupsieve>1.2\n",
            "  Downloading soupsieve-2.4-py3-none-any.whl (37 kB)\n",
            "Requirement already satisfied: cffi>=1.12 in /usr/local/lib/python3.8/dist-packages (from cryptography>=3.3.2->yfinance) (1.15.1)\n",
            "Requirement already satisfied: webencodings in /usr/local/lib/python3.8/dist-packages (from html5lib>=1.1->yfinance) (0.5.1)\n",
            "Requirement already satisfied: six>=1.9 in /usr/local/lib/python3.8/dist-packages (from html5lib>=1.1->yfinance) (1.15.0)\n",
            "Requirement already satisfied: python-dateutil>=2.7.3 in /usr/local/lib/python3.8/dist-packages (from pandas>=1.3.0->yfinance) (2.8.2)\n",
            "Requirement already satisfied: urllib3<1.27,>=1.21.1 in /usr/local/lib/python3.8/dist-packages (from requests>=2.26->yfinance) (1.26.14)\n",
            "Requirement already satisfied: charset-normalizer<4,>=2 in /usr/local/lib/python3.8/dist-packages (from requests>=2.26->yfinance) (3.0.1)\n",
            "Requirement already satisfied: certifi>=2017.4.17 in /usr/local/lib/python3.8/dist-packages (from requests>=2.26->yfinance) (2022.12.7)\n",
            "Requirement already satisfied: idna<4,>=2.5 in /usr/local/lib/python3.8/dist-packages (from requests>=2.26->yfinance) (2.10)\n",
            "Requirement already satisfied: pycparser in /usr/local/lib/python3.8/dist-packages (from cffi>=1.12->cryptography>=3.3.2->yfinance) (2.21)\n",
            "Installing collected packages: soupsieve, requests, html5lib, frozendict, cryptography, beautifulsoup4, yfinance\n",
            "  Attempting uninstall: requests\n",
            "    Found existing installation: requests 2.25.1\n",
            "    Uninstalling requests-2.25.1:\n",
            "      Successfully uninstalled requests-2.25.1\n",
            "  Attempting uninstall: html5lib\n",
            "    Found existing installation: html5lib 1.0.1\n",
            "    Uninstalling html5lib-1.0.1:\n",
            "      Successfully uninstalled html5lib-1.0.1\n",
            "  Attempting uninstall: beautifulsoup4\n",
            "    Found existing installation: beautifulsoup4 4.6.3\n",
            "    Uninstalling beautifulsoup4-4.6.3:\n",
            "      Successfully uninstalled beautifulsoup4-4.6.3\n",
            "Successfully installed beautifulsoup4-4.11.2 cryptography-39.0.2 frozendict-2.3.5 html5lib-1.1 requests-2.28.2 soupsieve-2.4 yfinance-0.2.12\n"
          ]
        },
        {
          "output_type": "display_data",
          "data": {
            "application/vnd.colab-display-data+json": {
              "pip_warning": {
                "packages": [
                  "requests"
                ]
              }
            }
          },
          "metadata": {}
        },
        {
          "output_type": "stream",
          "name": "stdout",
          "text": [
            "\r[*********************100%***********************]  1 of 1 completed\n"
          ]
        },
        {
          "output_type": "execute_result",
          "data": {
            "text/plain": [
              "                 Open       High        Low      Close  Adj Close     Volume\n",
              "Date                                                                        \n",
              "2012-01-03  14.621429  14.732143  14.607143  14.686786  12.500192  302220800\n",
              "2012-01-04  14.642857  14.810000  14.617143  14.765714  12.567371  260022000\n",
              "2012-01-05  14.819643  14.948214  14.738214  14.929643  12.706892  271269600\n",
              "2012-01-06  14.991786  15.098214  14.972143  15.085714  12.839726  318292800\n",
              "2012-01-09  15.196429  15.276786  15.048214  15.061786  12.819361  394024400"
            ],
            "text/html": [
              "\n",
              "  <div id=\"df-e4cd156a-a9ce-4282-9c6b-818e1381e08f\">\n",
              "    <div class=\"colab-df-container\">\n",
              "      <div>\n",
              "<style scoped>\n",
              "    .dataframe tbody tr th:only-of-type {\n",
              "        vertical-align: middle;\n",
              "    }\n",
              "\n",
              "    .dataframe tbody tr th {\n",
              "        vertical-align: top;\n",
              "    }\n",
              "\n",
              "    .dataframe thead th {\n",
              "        text-align: right;\n",
              "    }\n",
              "</style>\n",
              "<table border=\"1\" class=\"dataframe\">\n",
              "  <thead>\n",
              "    <tr style=\"text-align: right;\">\n",
              "      <th></th>\n",
              "      <th>Open</th>\n",
              "      <th>High</th>\n",
              "      <th>Low</th>\n",
              "      <th>Close</th>\n",
              "      <th>Adj Close</th>\n",
              "      <th>Volume</th>\n",
              "    </tr>\n",
              "    <tr>\n",
              "      <th>Date</th>\n",
              "      <th></th>\n",
              "      <th></th>\n",
              "      <th></th>\n",
              "      <th></th>\n",
              "      <th></th>\n",
              "      <th></th>\n",
              "    </tr>\n",
              "  </thead>\n",
              "  <tbody>\n",
              "    <tr>\n",
              "      <th>2012-01-03</th>\n",
              "      <td>14.621429</td>\n",
              "      <td>14.732143</td>\n",
              "      <td>14.607143</td>\n",
              "      <td>14.686786</td>\n",
              "      <td>12.500192</td>\n",
              "      <td>302220800</td>\n",
              "    </tr>\n",
              "    <tr>\n",
              "      <th>2012-01-04</th>\n",
              "      <td>14.642857</td>\n",
              "      <td>14.810000</td>\n",
              "      <td>14.617143</td>\n",
              "      <td>14.765714</td>\n",
              "      <td>12.567371</td>\n",
              "      <td>260022000</td>\n",
              "    </tr>\n",
              "    <tr>\n",
              "      <th>2012-01-05</th>\n",
              "      <td>14.819643</td>\n",
              "      <td>14.948214</td>\n",
              "      <td>14.738214</td>\n",
              "      <td>14.929643</td>\n",
              "      <td>12.706892</td>\n",
              "      <td>271269600</td>\n",
              "    </tr>\n",
              "    <tr>\n",
              "      <th>2012-01-06</th>\n",
              "      <td>14.991786</td>\n",
              "      <td>15.098214</td>\n",
              "      <td>14.972143</td>\n",
              "      <td>15.085714</td>\n",
              "      <td>12.839726</td>\n",
              "      <td>318292800</td>\n",
              "    </tr>\n",
              "    <tr>\n",
              "      <th>2012-01-09</th>\n",
              "      <td>15.196429</td>\n",
              "      <td>15.276786</td>\n",
              "      <td>15.048214</td>\n",
              "      <td>15.061786</td>\n",
              "      <td>12.819361</td>\n",
              "      <td>394024400</td>\n",
              "    </tr>\n",
              "  </tbody>\n",
              "</table>\n",
              "</div>\n",
              "      <button class=\"colab-df-convert\" onclick=\"convertToInteractive('df-e4cd156a-a9ce-4282-9c6b-818e1381e08f')\"\n",
              "              title=\"Convert this dataframe to an interactive table.\"\n",
              "              style=\"display:none;\">\n",
              "        \n",
              "  <svg xmlns=\"http://www.w3.org/2000/svg\" height=\"24px\"viewBox=\"0 0 24 24\"\n",
              "       width=\"24px\">\n",
              "    <path d=\"M0 0h24v24H0V0z\" fill=\"none\"/>\n",
              "    <path d=\"M18.56 5.44l.94 2.06.94-2.06 2.06-.94-2.06-.94-.94-2.06-.94 2.06-2.06.94zm-11 1L8.5 8.5l.94-2.06 2.06-.94-2.06-.94L8.5 2.5l-.94 2.06-2.06.94zm10 10l.94 2.06.94-2.06 2.06-.94-2.06-.94-.94-2.06-.94 2.06-2.06.94z\"/><path d=\"M17.41 7.96l-1.37-1.37c-.4-.4-.92-.59-1.43-.59-.52 0-1.04.2-1.43.59L10.3 9.45l-7.72 7.72c-.78.78-.78 2.05 0 2.83L4 21.41c.39.39.9.59 1.41.59.51 0 1.02-.2 1.41-.59l7.78-7.78 2.81-2.81c.8-.78.8-2.07 0-2.86zM5.41 20L4 18.59l7.72-7.72 1.47 1.35L5.41 20z\"/>\n",
              "  </svg>\n",
              "      </button>\n",
              "      \n",
              "  <style>\n",
              "    .colab-df-container {\n",
              "      display:flex;\n",
              "      flex-wrap:wrap;\n",
              "      gap: 12px;\n",
              "    }\n",
              "\n",
              "    .colab-df-convert {\n",
              "      background-color: #E8F0FE;\n",
              "      border: none;\n",
              "      border-radius: 50%;\n",
              "      cursor: pointer;\n",
              "      display: none;\n",
              "      fill: #1967D2;\n",
              "      height: 32px;\n",
              "      padding: 0 0 0 0;\n",
              "      width: 32px;\n",
              "    }\n",
              "\n",
              "    .colab-df-convert:hover {\n",
              "      background-color: #E2EBFA;\n",
              "      box-shadow: 0px 1px 2px rgba(60, 64, 67, 0.3), 0px 1px 3px 1px rgba(60, 64, 67, 0.15);\n",
              "      fill: #174EA6;\n",
              "    }\n",
              "\n",
              "    [theme=dark] .colab-df-convert {\n",
              "      background-color: #3B4455;\n",
              "      fill: #D2E3FC;\n",
              "    }\n",
              "\n",
              "    [theme=dark] .colab-df-convert:hover {\n",
              "      background-color: #434B5C;\n",
              "      box-shadow: 0px 1px 3px 1px rgba(0, 0, 0, 0.15);\n",
              "      filter: drop-shadow(0px 1px 2px rgba(0, 0, 0, 0.3));\n",
              "      fill: #FFFFFF;\n",
              "    }\n",
              "  </style>\n",
              "\n",
              "      <script>\n",
              "        const buttonEl =\n",
              "          document.querySelector('#df-e4cd156a-a9ce-4282-9c6b-818e1381e08f button.colab-df-convert');\n",
              "        buttonEl.style.display =\n",
              "          google.colab.kernel.accessAllowed ? 'block' : 'none';\n",
              "\n",
              "        async function convertToInteractive(key) {\n",
              "          const element = document.querySelector('#df-e4cd156a-a9ce-4282-9c6b-818e1381e08f');\n",
              "          const dataTable =\n",
              "            await google.colab.kernel.invokeFunction('convertToInteractive',\n",
              "                                                     [key], {});\n",
              "          if (!dataTable) return;\n",
              "\n",
              "          const docLinkHtml = 'Like what you see? Visit the ' +\n",
              "            '<a target=\"_blank\" href=https://colab.research.google.com/notebooks/data_table.ipynb>data table notebook</a>'\n",
              "            + ' to learn more about interactive tables.';\n",
              "          element.innerHTML = '';\n",
              "          dataTable['output_type'] = 'display_data';\n",
              "          await google.colab.output.renderOutput(dataTable, element);\n",
              "          const docLink = document.createElement('div');\n",
              "          docLink.innerHTML = docLinkHtml;\n",
              "          element.appendChild(docLink);\n",
              "        }\n",
              "      </script>\n",
              "    </div>\n",
              "  </div>\n",
              "  "
            ]
          },
          "metadata": {},
          "execution_count": 1
        },
        {
          "output_type": "stream",
          "name": "stdout",
          "text": [
            "Error: Runtime no longer has a reference to this dataframe, please re-run this cell and try again.\n"
          ]
        }
      ],
      "source": [
        "import pandas as pd\n",
        "import numpy as np\n",
        "\n",
        "import matplotlib.pyplot as plt\n",
        "import seaborn as sns\n",
        "sns.set_style('whitegrid')\n",
        "plt.style.use(\"fivethirtyeight\")\n",
        "%matplotlib inline\n",
        "\n",
        "# For reading stock data from yahoo\n",
        "from pandas_datareader.data import DataReader\n",
        "from pandas_datareader import data as pdr\n",
        "\n",
        "!pip install yfinance\n",
        "import yfinance as yf\n",
        "\n",
        "# For time stamps\n",
        "from datetime import datetime\n",
        "\n",
        "yf.pdr_override()\n",
        "\n",
        "df = pdr.get_data_yahoo('AAPL', start='2012-01-01', end=datetime.now())\n",
        "# Show the data\n",
        "df.head()"
      ]
    },
    {
      "cell_type": "code",
      "execution_count": 2,
      "metadata": {
        "execution": {
          "iopub.execute_input": "2022-05-16T18:03:34.325590Z",
          "iopub.status.busy": "2022-05-16T18:03:34.325360Z",
          "iopub.status.idle": "2022-05-16T18:03:34.751071Z",
          "shell.execute_reply": "2022-05-16T18:03:34.750052Z",
          "shell.execute_reply.started": "2022-05-16T18:03:34.325559Z"
        },
        "colab": {
          "base_uri": "https://localhost:8080/",
          "height": 410
        },
        "id": "Z5lYvwS8ijDz",
        "outputId": "db874f81-0e94-476e-c2c7-c1598e8609a1"
      },
      "outputs": [
        {
          "output_type": "display_data",
          "data": {
            "text/plain": [
              "<Figure size 1152x432 with 1 Axes>"
            ],
            "image/png": "[encoded data removed]"
          },
          "metadata": {
            "needs_background": "light"
          }
        }
      ],
      "source": [
        "plt.figure(figsize=(16,6))\n",
        "plt.title('Close Price History')\n",
        "plt.plot(df['Close'])\n",
        "plt.xlabel('Date', fontsize=18)\n",
        "plt.ylabel('Close Price USD ($)', fontsize=18)\n",
        "plt.show()"
      ]
    },
    {
      "cell_type": "code",
      "execution_count": 3,
      "metadata": {
        "execution": {
          "iopub.execute_input": "2022-05-16T18:03:34.754770Z",
          "iopub.status.busy": "2022-05-16T18:03:34.754499Z",
          "iopub.status.idle": "2022-05-16T18:03:34.762886Z",
          "shell.execute_reply": "2022-05-16T18:03:34.762053Z",
          "shell.execute_reply.started": "2022-05-16T18:03:34.754739Z"
        },
        "colab": {
          "base_uri": "https://localhost:8080/"
        },
        "id": "-SeKL4_uijDz",
        "outputId": "a2ccaed8-b990-49c4-d47e-65925309c6b1"
      },
      "outputs": [
        {
          "output_type": "execute_result",
          "data": {
            "text/plain": [
              "2670"
            ]
          },
          "metadata": {},
          "execution_count": 3
        }
      ],
      "source": [
        "# Create a new dataframe with only the 'Close column \n",
        "data = df.filter(['Close'])\n",
        "# Convert the dataframe to a numpy array\n",
        "dataset = data.values\n",
        "# Get the number of rows to train the model on\n",
        "training_data_len = int(np.ceil( len(dataset) * .95 ))\n",
        "\n",
        "training_data_len"
      ]
    },
    {
      "cell_type": "code",
      "execution_count": 4,
      "metadata": {
        "execution": {
          "iopub.execute_input": "2022-05-16T18:03:34.765319Z",
          "iopub.status.busy": "2022-05-16T18:03:34.764331Z",
          "iopub.status.idle": "2022-05-16T18:03:34.778748Z",
          "shell.execute_reply": "2022-05-16T18:03:34.777641Z",
          "shell.execute_reply.started": "2022-05-16T18:03:34.765264Z"
        },
        "colab": {
          "base_uri": "https://localhost:8080/"
        },
        "id": "fwaoOeAoijD0",
        "outputId": "34159f0f-9e13-4633-a1f6-5adf5594e481"
      },
      "outputs": [
        {
          "output_type": "execute_result",
          "data": {
            "text/plain": [
              "array([[0.00439887],\n",
              "       [0.00486851],\n",
              "       [0.00584391],\n",
              "       ...,\n",
              "       [0.78162887],\n",
              "       [0.78519901],\n",
              "       [0.81566383]])"
            ]
          },
          "metadata": {},
          "execution_count": 4
        }
      ],
      "source": [
        "# Scale the data\n",
        "from sklearn.preprocessing import MinMaxScaler\n",
        "\n",
        "scaler = MinMaxScaler(feature_range=(0,1))\n",
        "scaled_data = scaler.fit_transform(dataset)\n",
        "\n",
        "scaled_data"
      ]
    },
    {
      "cell_type": "code",
      "execution_count": 5,
      "metadata": {
        "_kg_hide-output": true,
        "execution": {
          "iopub.execute_input": "2022-05-16T18:03:34.781325Z",
          "iopub.status.busy": "2022-05-16T18:03:34.780702Z",
          "iopub.status.idle": "2022-05-16T18:03:34.803544Z",
          "shell.execute_reply": "2022-05-16T18:03:34.802533Z",
          "shell.execute_reply.started": "2022-05-16T18:03:34.781278Z"
        },
        "colab": {
          "base_uri": "https://localhost:8080/"
        },
        "id": "8xJTJcprijD0",
        "outputId": "77cb5122-508b-4b22-cbf4-8d18c23e8d7e"
      },
      "outputs": [
        {
          "output_type": "stream",
          "name": "stdout",
          "text": [
            "[array([0.00439887, 0.00486851, 0.00584391, 0.00677256, 0.00663019,\n",
            "       0.00695107, 0.00680444, 0.00655793, 0.00622217, 0.00726133,\n",
            "       0.00819848, 0.00790947, 0.0063263 , 0.00783722, 0.00634968,\n",
            "       0.01192796, 0.01149658, 0.01205972, 0.01327737, 0.01401476,\n",
            "       0.01395314, 0.01372576, 0.01469479, 0.01560643, 0.01663922,\n",
            "       0.01830739, 0.02181161, 0.02186474, 0.02381555, 0.02527333,\n",
            "       0.0227679 , 0.02373267, 0.02371354, 0.02641875, 0.02603411,\n",
            "       0.026746  , 0.02802528, 0.02873719, 0.03078787, 0.03228178,\n",
            "       0.03271317, 0.03286405, 0.03030973, 0.02969346, 0.02978484,\n",
            "       0.03218616, 0.03286193, 0.03431335, 0.03773469, 0.04229932,\n",
            "       0.04144504, 0.04144716, 0.04474738, 0.04578017, 0.04504489,\n",
            "       0.04437338, 0.04367423, 0.04599691, 0.04759072, 0.04825798])]\n",
            "[0.04660893460974819]\n",
            "\n",
            "[array([0.00439887, 0.00486851, 0.00584391, 0.00677256, 0.00663019,\n",
            "       0.00695107, 0.00680444, 0.00655793, 0.00622217, 0.00726133,\n",
            "       0.00819848, 0.00790947, 0.0063263 , 0.00783722, 0.00634968,\n",
            "       0.01192796, 0.01149658, 0.01205972, 0.01327737, 0.01401476,\n",
            "       0.01395314, 0.01372576, 0.01469479, 0.01560643, 0.01663922,\n",
            "       0.01830739, 0.02181161, 0.02186474, 0.02381555, 0.02527333,\n",
            "       0.0227679 , 0.02373267, 0.02371354, 0.02641875, 0.02603411,\n",
            "       0.026746  , 0.02802528, 0.02873719, 0.03078787, 0.03228178,\n",
            "       0.03271317, 0.03286405, 0.03030973, 0.02969346, 0.02978484,\n",
            "       0.03218616, 0.03286193, 0.03431335, 0.03773469, 0.04229932,\n",
            "       0.04144504, 0.04144716, 0.04474738, 0.04578017, 0.04504489,\n",
            "       0.04437338, 0.04367423, 0.04599691, 0.04759072, 0.04825798]), array([0.00486851, 0.00584391, 0.00677256, 0.00663019, 0.00695107,\n",
            "       0.00680444, 0.00655793, 0.00622217, 0.00726133, 0.00819848,\n",
            "       0.00790947, 0.0063263 , 0.00783722, 0.00634968, 0.01192796,\n",
            "       0.01149658, 0.01205972, 0.01327737, 0.01401476, 0.01395314,\n",
            "       0.01372576, 0.01469479, 0.01560643, 0.01663922, 0.01830739,\n",
            "       0.02181161, 0.02186474, 0.02381555, 0.02527333, 0.0227679 ,\n",
            "       0.02373267, 0.02371354, 0.02641875, 0.02603411, 0.026746  ,\n",
            "       0.02802528, 0.02873719, 0.03078787, 0.03228178, 0.03271317,\n",
            "       0.03286405, 0.03030973, 0.02969346, 0.02978484, 0.03218616,\n",
            "       0.03286193, 0.03431335, 0.03773469, 0.04229932, 0.04144504,\n",
            "       0.04144716, 0.04474738, 0.04578017, 0.04504489, 0.04437338,\n",
            "       0.04367423, 0.04599691, 0.04759072, 0.04825798, 0.04660893])]\n",
            "[0.04660893460974819, 0.04441800167645807]\n",
            "\n"
          ]
        }
      ],
      "source": [
        "# Create the training data set \n",
        "# Create the scaled training data set\n",
        "train_data = scaled_data[0:int(training_data_len), :]\n",
        "# Split the data into x_train and y_train data sets\n",
        "x_train = []\n",
        "y_train = []\n",
        "\n",
        "for i in range(60, len(train_data)):\n",
        "    x_train.append(train_data[i-60:i, 0])\n",
        "    y_train.append(train_data[i, 0])\n",
        "    if i<= 61:\n",
        "        print(x_train)\n",
        "        print(y_train)\n",
        "        print()\n",
        "        \n",
        "# Convert the x_train and y_train to numpy arrays \n",
        "x_train, y_train = np.array(x_train), np.array(y_train)\n",
        "\n",
        "# Reshape the data\n",
        "x_train = np.reshape(x_train, (x_train.shape[0], x_train.shape[1], 1))\n",
        "# x_train.shape"
      ]
    },
    {
      "cell_type": "code",
      "execution_count": 11,
      "metadata": {
        "execution": {
          "iopub.execute_input": "2022-05-16T18:03:34.805535Z",
          "iopub.status.busy": "2022-05-16T18:03:34.805287Z",
          "iopub.status.idle": "2022-05-16T18:05:16.340651Z",
          "shell.execute_reply": "2022-05-16T18:05:16.340039Z",
          "shell.execute_reply.started": "2022-05-16T18:03:34.805504Z"
        },
        "id": "3N8vSxVMijD0"
      },
      "outputs": [],
      "source": [
        "from keras.models import Sequential\n",
        "from keras.layers import Dense, Dropout, LSTM\n",
        "\n",
        "#  Initialising the RNN\n",
        "model= Sequential()\n",
        "\n",
        "# Adding first LSTM layer and some dropout Dropout regularisation\n",
        "model.add(LSTM(units=100,return_sequences=True, input_shape=(x_train.shape[1],1)))\n",
        "model.add(Dropout(rate=0.2))\n",
        "\n",
        "# Adding third LSTM layer and some dropout Dropout regularisation\n",
        "model.add(LSTM(units=100,return_sequences=True))\n",
        "model.add(Dropout(rate=0.2))\n",
        "\n",
        "# Adding fifth LSTM layer and some dropout Dropout regularisation\n",
        "model.add(LSTM(units=100))\n",
        "model.add(Dropout(rate=0.2))\n",
        "\n",
        "# Adding the Output Layer\n",
        "model.add(Dense(units=1))\n",
        "\n",
        "# Compiling the Model\n",
        "# Because we're doing regression hence mean_squared_error\n",
        "model.compile(loss='mean_squared_error', optimizer='adam')"
      ]
    },
    {
      "cell_type": "code",
      "execution_count": 12,
      "metadata": {
        "execution": {
          "iopub.execute_input": "2022-05-16T18:03:34.805535Z",
          "iopub.status.busy": "2022-05-16T18:03:34.805287Z",
          "iopub.status.idle": "2022-05-16T18:05:16.340651Z",
          "shell.execute_reply": "2022-05-16T18:05:16.340039Z",
          "shell.execute_reply.started": "2022-05-16T18:03:34.805504Z"
        },
        "colab": {
          "base_uri": "https://localhost:8080/"
        },
        "id": "cWD7Z1z8ijD1",
        "outputId": "00768502-71c6-48b5-9274-fb97f7c43a62"
      },
      "outputs": [
        {
          "output_type": "stream",
          "name": "stdout",
          "text": [
            "Model: \"sequential_1\"\n",
            "_________________________________________________________________\n",
            " Layer (type)                Output Shape              Param #   \n",
            "=================================================================\n",
            " lstm_4 (LSTM)               (None, 60, 100)           40800     \n",
            "                                                                 \n",
            " dropout_4 (Dropout)         (None, 60, 100)           0         \n",
            "                                                                 \n",
            " lstm_5 (LSTM)               (None, 60, 100)           80400     \n",
            "                                                                 \n",
            " dropout_5 (Dropout)         (None, 60, 100)           0         \n",
            "                                                                 \n",
            " lstm_6 (LSTM)               (None, 100)               80400     \n",
            "                                                                 \n",
            " dropout_6 (Dropout)         (None, 100)               0         \n",
            "                                                                 \n",
            " dense_1 (Dense)             (None, 1)                 101       \n",
            "                                                                 \n",
            "=================================================================\n",
            "Total params: 201,701\n",
            "Trainable params: 201,701\n",
            "Non-trainable params: 0\n",
            "_________________________________________________________________\n"
          ]
        }
      ],
      "source": [
        "model.summary()"
      ]
    },
    {
      "cell_type": "code",
      "execution_count": 13,
      "metadata": {
        "execution": {
          "iopub.execute_input": "2022-05-16T18:03:34.805535Z",
          "iopub.status.busy": "2022-05-16T18:03:34.805287Z",
          "iopub.status.idle": "2022-05-16T18:05:16.340651Z",
          "shell.execute_reply": "2022-05-16T18:05:16.340039Z",
          "shell.execute_reply.started": "2022-05-16T18:03:34.805504Z"
        },
        "colab": {
          "base_uri": "https://localhost:8080/"
        },
        "id": "aWbaS4XaijD1",
        "outputId": "45ee6676-0cda-4ddf-f85b-e876d6502543"
      },
      "outputs": [
        {
          "output_type": "stream",
          "name": "stdout",
          "text": [
            "Epoch 1/100\n",
            "131/131 [==============================] - 29s 157ms/step - loss: 0.0059\n",
            "Epoch 2/100\n",
            "131/131 [==============================] - 22s 166ms/step - loss: 0.0016\n",
            "Epoch 3/100\n",
            "131/131 [==============================] - 21s 163ms/step - loss: 0.0014\n",
            "Epoch 4/100\n",
            "131/131 [==============================] - 21s 161ms/step - loss: 0.0012\n",
            "Epoch 5/100\n",
            "131/131 [==============================] - 22s 169ms/step - loss: 0.0011\n",
            "Epoch 6/100\n",
            "131/131 [==============================] - 21s 162ms/step - loss: 0.0011\n",
            "Epoch 7/100\n",
            "131/131 [==============================] - 22s 165ms/step - loss: 0.0012\n",
            "Epoch 8/100\n",
            "131/131 [==============================] - 24s 181ms/step - loss: 0.0013\n",
            "Epoch 9/100\n",
            "131/131 [==============================] - 21s 160ms/step - loss: 0.0012\n",
            "Epoch 10/100\n",
            "131/131 [==============================] - 22s 169ms/step - loss: 0.0010\n",
            "Epoch 11/100\n",
            "131/131 [==============================] - 22s 170ms/step - loss: 0.0010\n",
            "Epoch 12/100\n",
            "131/131 [==============================] - 21s 160ms/step - loss: 8.2595e-04\n",
            "Epoch 13/100\n",
            "131/131 [==============================] - 22s 169ms/step - loss: 0.0010\n",
            "Epoch 14/100\n",
            "131/131 [==============================] - 22s 169ms/step - loss: 9.4541e-04\n",
            "Epoch 15/100\n",
            "131/131 [==============================] - 21s 160ms/step - loss: 8.3411e-04\n",
            "Epoch 16/100\n",
            "131/131 [==============================] - 23s 180ms/step - loss: 7.9705e-04\n",
            "Epoch 17/100\n",
            "131/131 [==============================] - 22s 170ms/step - loss: 9.3025e-04\n",
            "Epoch 18/100\n",
            "131/131 [==============================] - 21s 159ms/step - loss: 7.5891e-04\n",
            "Epoch 19/100\n",
            "131/131 [==============================] - 22s 169ms/step - loss: 7.1838e-04\n",
            "Epoch 20/100\n",
            "131/131 [==============================] - 22s 170ms/step - loss: 7.6447e-04\n",
            "Epoch 21/100\n",
            "131/131 [==============================] - 21s 159ms/step - loss: 6.8219e-04\n",
            "Epoch 22/100\n",
            "131/131 [==============================] - 22s 168ms/step - loss: 7.3589e-04\n",
            "Epoch 23/100\n",
            "131/131 [==============================] - 22s 171ms/step - loss: 8.0641e-04\n",
            "Epoch 24/100\n",
            "131/131 [==============================] - 22s 166ms/step - loss: 6.8528e-04\n",
            "Epoch 25/100\n",
            "131/131 [==============================] - 22s 164ms/step - loss: 7.4651e-04\n",
            "Epoch 26/100\n",
            "131/131 [==============================] - 22s 165ms/step - loss: 6.6796e-04\n",
            "Epoch 27/100\n",
            "131/131 [==============================] - 20s 156ms/step - loss: 7.6600e-04\n",
            "Epoch 28/100\n",
            "131/131 [==============================] - 22s 165ms/step - loss: 7.0485e-04\n",
            "Epoch 29/100\n",
            "131/131 [==============================] - 21s 163ms/step - loss: 6.3806e-04\n",
            "Epoch 30/100\n",
            "131/131 [==============================] - 21s 162ms/step - loss: 6.3988e-04\n",
            "Epoch 31/100\n",
            "131/131 [==============================] - 21s 157ms/step - loss: 6.8261e-04\n",
            "Epoch 32/100\n",
            "131/131 [==============================] - 22s 165ms/step - loss: 7.5822e-04\n",
            "Epoch 33/100\n",
            "131/131 [==============================] - 23s 174ms/step - loss: 6.0418e-04\n",
            "Epoch 34/100\n",
            "131/131 [==============================] - 22s 165ms/step - loss: 5.4560e-04\n",
            "Epoch 35/100\n",
            "131/131 [==============================] - 21s 157ms/step - loss: 5.9736e-04\n",
            "Epoch 36/100\n",
            "131/131 [==============================] - 22s 165ms/step - loss: 6.4468e-04\n",
            "Epoch 37/100\n",
            "131/131 [==============================] - 22s 165ms/step - loss: 6.7368e-04\n",
            "Epoch 38/100\n",
            "131/131 [==============================] - 21s 164ms/step - loss: 8.0321e-04\n",
            "Epoch 39/100\n",
            "131/131 [==============================] - 21s 159ms/step - loss: 6.3396e-04\n",
            "Epoch 40/100\n",
            "131/131 [==============================] - 22s 165ms/step - loss: 7.2179e-04\n",
            "Epoch 41/100\n",
            "131/131 [==============================] - 23s 173ms/step - loss: 6.4710e-04\n",
            "Epoch 42/100\n",
            "131/131 [==============================] - 21s 160ms/step - loss: 6.5894e-04\n",
            "Epoch 43/100\n",
            "131/131 [==============================] - 21s 163ms/step - loss: 6.5410e-04\n",
            "Epoch 44/100\n",
            "131/131 [==============================] - 22s 165ms/step - loss: 5.5414e-04\n",
            "Epoch 45/100\n",
            "131/131 [==============================] - 22s 166ms/step - loss: 5.4224e-04\n",
            "Epoch 46/100\n",
            "131/131 [==============================] - 21s 164ms/step - loss: 5.0533e-04\n",
            "Epoch 47/100\n",
            "131/131 [==============================] - 21s 159ms/step - loss: 5.7770e-04\n",
            "Epoch 48/100\n",
            "131/131 [==============================] - 22s 165ms/step - loss: 5.9784e-04\n",
            "Epoch 49/100\n",
            "131/131 [==============================] - 22s 166ms/step - loss: 5.9527e-04\n",
            "Epoch 50/100\n",
            "131/131 [==============================] - 23s 173ms/step - loss: 5.5767e-04\n",
            "Epoch 51/100\n",
            "131/131 [==============================] - 21s 159ms/step - loss: 6.0570e-04\n",
            "Epoch 52/100\n",
            "131/131 [==============================] - 22s 166ms/step - loss: 7.5387e-04\n",
            "Epoch 53/100\n",
            "131/131 [==============================] - 22s 166ms/step - loss: 6.3607e-04\n",
            "Epoch 54/100\n",
            "131/131 [==============================] - 22s 166ms/step - loss: 5.8232e-04\n",
            "Epoch 55/100\n",
            "131/131 [==============================] - 21s 158ms/step - loss: 5.2194e-04\n",
            "Epoch 56/100\n",
            "131/131 [==============================] - 22s 166ms/step - loss: 5.2361e-04\n",
            "Epoch 57/100\n",
            "131/131 [==============================] - 22s 169ms/step - loss: 6.1550e-04\n",
            "Epoch 58/100\n",
            "131/131 [==============================] - 22s 170ms/step - loss: 5.7678e-04\n",
            "Epoch 59/100\n",
            "131/131 [==============================] - 22s 168ms/step - loss: 4.6329e-04\n",
            "Epoch 60/100\n",
            "131/131 [==============================] - 21s 158ms/step - loss: 5.2164e-04\n",
            "Epoch 61/100\n",
            "131/131 [==============================] - 22s 169ms/step - loss: 5.6931e-04\n",
            "Epoch 62/100\n",
            "131/131 [==============================] - 22s 168ms/step - loss: 4.8926e-04\n",
            "Epoch 63/100\n",
            "131/131 [==============================] - 22s 166ms/step - loss: 5.9175e-04\n",
            "Epoch 64/100\n",
            "131/131 [==============================] - 21s 160ms/step - loss: 5.1420e-04\n",
            "Epoch 65/100\n",
            "131/131 [==============================] - 22s 167ms/step - loss: 5.1956e-04\n",
            "Epoch 66/100\n",
            "131/131 [==============================] - 22s 167ms/step - loss: 5.3886e-04\n",
            "Epoch 67/100\n",
            "131/131 [==============================] - 23s 176ms/step - loss: 5.9636e-04\n",
            "Epoch 68/100\n",
            "131/131 [==============================] - 21s 162ms/step - loss: 5.4460e-04\n",
            "Epoch 69/100\n",
            "131/131 [==============================] - 22s 164ms/step - loss: 6.2249e-04\n",
            "Epoch 70/100\n",
            "131/131 [==============================] - 22s 168ms/step - loss: 4.9927e-04\n",
            "Epoch 71/100\n",
            "131/131 [==============================] - 22s 167ms/step - loss: 6.2541e-04\n",
            "Epoch 72/100\n",
            "131/131 [==============================] - 22s 168ms/step - loss: 4.8418e-04\n",
            "Epoch 73/100\n",
            "131/131 [==============================] - 21s 161ms/step - loss: 5.7234e-04\n",
            "Epoch 74/100\n",
            "131/131 [==============================] - 22s 168ms/step - loss: 4.9499e-04\n",
            "Epoch 75/100\n",
            "131/131 [==============================] - 22s 167ms/step - loss: 5.2377e-04\n",
            "Epoch 76/100\n",
            "131/131 [==============================] - 23s 174ms/step - loss: 4.8936e-04\n",
            "Epoch 77/100\n",
            "131/131 [==============================] - 22s 167ms/step - loss: 4.9747e-04\n",
            "Epoch 78/100\n",
            "131/131 [==============================] - 21s 161ms/step - loss: 5.6346e-04\n",
            "Epoch 79/100\n",
            "131/131 [==============================] - 22s 168ms/step - loss: 5.4221e-04\n",
            "Epoch 80/100\n",
            "131/131 [==============================] - 22s 167ms/step - loss: 4.7897e-04\n",
            "Epoch 81/100\n",
            "131/131 [==============================] - 22s 168ms/step - loss: 6.1698e-04\n",
            "Epoch 82/100\n",
            "131/131 [==============================] - 22s 165ms/step - loss: 5.6507e-04\n",
            "Epoch 83/100\n",
            "131/131 [==============================] - 21s 163ms/step - loss: 5.2241e-04\n",
            "Epoch 84/100\n",
            "131/131 [==============================] - 22s 168ms/step - loss: 4.8949e-04\n",
            "Epoch 85/100\n",
            "131/131 [==============================] - 23s 176ms/step - loss: 5.2533e-04\n",
            "Epoch 86/100\n",
            "131/131 [==============================] - 22s 170ms/step - loss: 6.0192e-04\n",
            "Epoch 87/100\n",
            "131/131 [==============================] - 22s 165ms/step - loss: 5.2065e-04\n",
            "Epoch 88/100\n",
            "131/131 [==============================] - 22s 165ms/step - loss: 4.9212e-04\n",
            "Epoch 89/100\n",
            "131/131 [==============================] - 22s 169ms/step - loss: 5.0628e-04\n",
            "Epoch 90/100\n",
            "131/131 [==============================] - 22s 168ms/step - loss: 4.4184e-04\n",
            "Epoch 91/100\n",
            "131/131 [==============================] - 22s 167ms/step - loss: 4.4820e-04\n",
            "Epoch 92/100\n",
            "131/131 [==============================] - 21s 161ms/step - loss: 5.4688e-04\n",
            "Epoch 93/100\n",
            "131/131 [==============================] - 22s 166ms/step - loss: 7.4452e-04\n",
            "Epoch 94/100\n",
            "131/131 [==============================] - 23s 176ms/step - loss: 4.7029e-04\n",
            "Epoch 95/100\n",
            "131/131 [==============================] - 22s 169ms/step - loss: 4.4824e-04\n",
            "Epoch 96/100\n",
            "131/131 [==============================] - 22s 169ms/step - loss: 4.5640e-04\n",
            "Epoch 97/100\n",
            "131/131 [==============================] - 21s 163ms/step - loss: 5.0867e-04\n",
            "Epoch 98/100\n",
            "131/131 [==============================] - 22s 166ms/step - loss: 4.3927e-04\n",
            "Epoch 99/100\n",
            "131/131 [==============================] - 22s 169ms/step - loss: 5.5400e-04\n",
            "Epoch 100/100\n",
            "131/131 [==============================] - 22s 171ms/step - loss: 4.8395e-04\n"
          ]
        },
        {
          "output_type": "execute_result",
          "data": {
            "text/plain": [
              "<keras.callbacks.History at 0x7f97fb41a640>"
            ]
          },
          "metadata": {},
          "execution_count": 13
        }
      ],
      "source": [
        "# Train the model\n",
        "model.fit(x_train, y_train, batch_size=20, epochs=100)"
      ]
    },
    {
      "cell_type": "code",
      "execution_count": 14,
      "metadata": {
        "execution": {
          "iopub.execute_input": "2022-05-16T18:05:16.342751Z",
          "iopub.status.busy": "2022-05-16T18:05:16.342436Z",
          "iopub.status.idle": "2022-05-16T18:05:17.282810Z",
          "shell.execute_reply": "2022-05-16T18:05:17.281938Z",
          "shell.execute_reply.started": "2022-05-16T18:05:16.342708Z"
        },
        "colab": {
          "base_uri": "https://localhost:8080/"
        },
        "id": "Z57fdfpAijD2",
        "outputId": "940189da-295f-4802-bf51-b589d385d417"
      },
      "outputs": [
        {
          "output_type": "stream",
          "name": "stdout",
          "text": [
            "5/5 [==============================] - 2s 50ms/step\n"
          ]
        }
      ],
      "source": [
        "# Create the testing data set\n",
        "# Create a new array containing scaled values from index 1543 to 2002 \n",
        "test_data = scaled_data[training_data_len - 60: , :]\n",
        "# Create the data sets x_test and y_test\n",
        "x_test = []\n",
        "y_test = dataset[training_data_len:, :]\n",
        "for i in range(60, len(test_data)):\n",
        "    x_test.append(test_data[i-60:i, 0])\n",
        "    \n",
        "# Convert the data to a numpy array\n",
        "x_test = np.array(x_test)\n",
        "\n",
        "# Reshape the data\n",
        "x_test = np.reshape(x_test, (x_test.shape[0], x_test.shape[1], 1 ))\n",
        "\n",
        "# Get the models predicted price values \n",
        "predictions = model.predict(x_test)\n",
        "predictions = scaler.inverse_transform(predictions)"
      ]
    },
    {
      "cell_type": "code",
      "execution_count": 15,
      "metadata": {
        "execution": {
          "iopub.execute_input": "2022-05-16T18:05:16.342751Z",
          "iopub.status.busy": "2022-05-16T18:05:16.342436Z",
          "iopub.status.idle": "2022-05-16T18:05:17.282810Z",
          "shell.execute_reply": "2022-05-16T18:05:17.281938Z",
          "shell.execute_reply.started": "2022-05-16T18:05:16.342708Z"
        },
        "colab": {
          "base_uri": "https://localhost:8080/"
        },
        "id": "BNHTX8CHijD2",
        "outputId": "ba794771-8cb6-4af2-9b37-edc19d48c83a"
      },
      "outputs": [
        {
          "output_type": "execute_result",
          "data": {
            "text/plain": [
              "5.3583816799661035"
            ]
          },
          "metadata": {},
          "execution_count": 15
        }
      ],
      "source": [
        "# Get the root mean squared error (RMSE)\n",
        "rmse = np.sqrt(np.mean(((predictions - y_test) ** 2)))\n",
        "rmse"
      ]
    },
    {
      "cell_type": "code",
      "execution_count": null,
      "metadata": {
        "execution": {
          "iopub.execute_input": "2022-05-16T18:05:17.284546Z",
          "iopub.status.busy": "2022-05-16T18:05:17.284321Z",
          "iopub.status.idle": "2022-05-16T18:05:17.712441Z",
          "shell.execute_reply": "2022-05-16T18:05:17.711804Z",
          "shell.execute_reply.started": "2022-05-16T18:05:17.284519Z"
        },
        "id": "E4-is6wsijD3",
        "outputId": "b42640c8-55da-4d58-ffca-4ece1207f080"
      },
      "outputs": [
        {
          "name": "stderr",
          "output_type": "stream",
          "text": [
            "<ipython-input-11-cd6f56517c16>:4: SettingWithCopyWarning: \n",
            "A value is trying to be set on a copy of a slice from a DataFrame.\n",
            "Try using .loc[row_indexer,col_indexer] = value instead\n",
            "\n",
            "See the caveats in the documentation: https://pandas.pydata.org/pandas-docs/stable/user_guide/indexing.html#returning-a-view-versus-a-copy\n",
            "  test['Predictions'] = predictions\n"
          ]
        },
        {
          "data": {
            "image/png": "[encoded data removed]",
            "text/plain": [
              "<Figure size 1152x432 with 1 Axes>"
            ]
          },
          "metadata": {
            "needs_background": "light"
          },
          "output_type": "display_data"
        }
      ],
      "source": [
        "# Plot the data\n",
        "train = data[:training_data_len]\n",
        "test = data[training_data_len:]\n",
        "test['Predictions'] = predictions\n",
        "\n",
        "# Visualize the data\n",
        "plt.figure(figsize=(16,6))\n",
        "plt.title('Model')\n",
        "plt.xlabel('Date', fontsize=18)\n",
        "plt.ylabel('Close Price USD ($)', fontsize=18)\n",
        "plt.plot(train['Close'])\n",
        "plt.plot(test[['Close', 'Predictions']])\n",
        "plt.legend(['Close', 'Predictions'], loc='lower right')\n",
        "plt.show()"
      ]
    },
    {
      "cell_type": "code",
      "execution_count": null,
      "metadata": {
        "execution": {
          "iopub.execute_input": "2022-05-16T18:05:17.714216Z",
          "iopub.status.busy": "2022-05-16T18:05:17.713547Z",
          "iopub.status.idle": "2022-05-16T18:05:17.726433Z",
          "shell.execute_reply": "2022-05-16T18:05:17.725626Z",
          "shell.execute_reply.started": "2022-05-16T18:05:17.714184Z"
        },
        "id": "5nH75EaAijD3",
        "outputId": "4ceb40dd-7eb0-4c07-8088-e8c092b7b943"
      },
      "outputs": [
        {
          "data": {
            "text/html": [
              "<div>\n",
              "<style scoped>\n",
              "    .dataframe tbody tr th:only-of-type {\n",
              "        vertical-align: middle;\n",
              "    }\n",
              "\n",
              "    .dataframe tbody tr th {\n",
              "        vertical-align: top;\n",
              "    }\n",
              "\n",
              "    .dataframe thead th {\n",
              "        text-align: right;\n",
              "    }\n",
              "</style>\n",
              "<table border=\"1\" class=\"dataframe\">\n",
              "  <thead>\n",
              "    <tr style=\"text-align: right;\">\n",
              "      <th></th>\n",
              "      <th>Close</th>\n",
              "      <th>Predictions</th>\n",
              "    </tr>\n",
              "    <tr>\n",
              "      <th>Date</th>\n",
              "      <th></th>\n",
              "      <th></th>\n",
              "    </tr>\n",
              "  </thead>\n",
              "  <tbody>\n",
              "    <tr>\n",
              "      <th>2022-07-29</th>\n",
              "      <td>162.509995</td>\n",
              "      <td>158.767944</td>\n",
              "    </tr>\n",
              "    <tr>\n",
              "      <th>2022-08-01</th>\n",
              "      <td>161.509995</td>\n",
              "      <td>161.566208</td>\n",
              "    </tr>\n",
              "    <tr>\n",
              "      <th>2022-08-02</th>\n",
              "      <td>160.009995</td>\n",
              "      <td>162.514862</td>\n",
              "    </tr>\n",
              "    <tr>\n",
              "      <th>2022-08-03</th>\n",
              "      <td>166.130005</td>\n",
              "      <td>162.195694</td>\n",
              "    </tr>\n",
              "    <tr>\n",
              "      <th>2022-08-04</th>\n",
              "      <td>165.809998</td>\n",
              "      <td>164.728714</td>\n",
              "    </tr>\n",
              "    <tr>\n",
              "      <th>...</th>\n",
              "      <td>...</td>\n",
              "      <td>...</td>\n",
              "    </tr>\n",
              "    <tr>\n",
              "      <th>2023-02-09</th>\n",
              "      <td>150.869995</td>\n",
              "      <td>155.835495</td>\n",
              "    </tr>\n",
              "    <tr>\n",
              "      <th>2023-02-10</th>\n",
              "      <td>151.009995</td>\n",
              "      <td>154.975601</td>\n",
              "    </tr>\n",
              "    <tr>\n",
              "      <th>2023-02-13</th>\n",
              "      <td>153.850006</td>\n",
              "      <td>154.414062</td>\n",
              "    </tr>\n",
              "    <tr>\n",
              "      <th>2023-02-14</th>\n",
              "      <td>153.199997</td>\n",
              "      <td>155.321259</td>\n",
              "    </tr>\n",
              "    <tr>\n",
              "      <th>2023-02-15</th>\n",
              "      <td>155.330002</td>\n",
              "      <td>155.501678</td>\n",
              "    </tr>\n",
              "  </tbody>\n",
              "</table>\n",
              "<p>139 rows × 2 columns</p>\n",
              "</div>"
            ],
            "text/plain": [
              "                 Close  Predictions\n",
              "Date                               \n",
              "2022-07-29  162.509995   158.767944\n",
              "2022-08-01  161.509995   161.566208\n",
              "2022-08-02  160.009995   162.514862\n",
              "2022-08-03  166.130005   162.195694\n",
              "2022-08-04  165.809998   164.728714\n",
              "...                ...          ...\n",
              "2023-02-09  150.869995   155.835495\n",
              "2023-02-10  151.009995   154.975601\n",
              "2023-02-13  153.850006   154.414062\n",
              "2023-02-14  153.199997   155.321259\n",
              "2023-02-15  155.330002   155.501678\n",
              "\n",
              "[139 rows x 2 columns]"
            ]
          },
          "execution_count": 12,
          "metadata": {},
          "output_type": "execute_result"
        }
      ],
      "source": [
        "# Show the valid and predicted prices\n",
        "test"
      ]
    },
    {
      "cell_type": "code",
      "execution_count": null,
      "metadata": {
        "id": "Ts1Sf-PyijD3"
      },
      "outputs": [],
      "source": []
    }
  ],
  "metadata": {
    "kernelspec": {
      "display_name": "Python 3",
      "language": "python",
      "name": "python3"
    },
    "language_info": {
      "codemirror_mode": {
        "name": "ipython",
        "version": 3
      },
      "file_extension": ".py",
      "mimetype": "text/x-python",
      "name": "python",
      "nbconvert_exporter": "python",
      "pygments_lexer": "ipython3",
      "version": "3.8.3"
    },
    "colab": {
      "provenance": []
    }
  },
  "nbformat": 4,
  "nbformat_minor": 0
}