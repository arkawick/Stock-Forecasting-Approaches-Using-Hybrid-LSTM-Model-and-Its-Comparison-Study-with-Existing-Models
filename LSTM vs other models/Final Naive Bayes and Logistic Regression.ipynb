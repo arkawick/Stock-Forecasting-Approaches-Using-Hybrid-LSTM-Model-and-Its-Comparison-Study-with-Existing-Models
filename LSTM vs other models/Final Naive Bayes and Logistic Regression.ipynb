{
 "cells": [
  {
   "cell_type": "code",
   "execution_count": 3,
   "metadata": {},
   "outputs": [
    {
     "name": "stdout",
     "output_type": "stream",
     "text": [
      "Populating the interactive namespace from numpy and matplotlib\n"
     ]
    }
   ],
   "source": [
    "%pylab inline"
   ]
  },
  {
   "cell_type": "code",
   "execution_count": 4,
   "metadata": {},
   "outputs": [
    {
     "name": "stdout",
     "output_type": "stream",
     "text": [
      "[*********************100%***********************]  1 of 1 completed\n"
     ]
    }
   ],
   "source": [
    "import pandas as pd\n",
    "import numpy as np\n",
    "\n",
    "import warnings\n",
    "warnings.filterwarnings(\"ignore\")\n",
    "\n",
    "import matplotlib.pyplot as plt\n",
    "import seaborn as sns\n",
    "sns.set_style('whitegrid')\n",
    "plt.style.use(\"fivethirtyeight\")\n",
    "%matplotlib inline\n",
    "\n",
    "# For reading stock data from yahoo\n",
    "from pandas_datareader.data import DataReader\n",
    "from pandas_datareader import data as pdr\n",
    "import yfinance as yf\n",
    "\n",
    "# For time stamps\n",
    "from datetime import datetime\n",
    "\n",
    "yf.pdr_override()\n",
    "# download dataframe\n",
    "data = pdr.get_data_yahoo('AAPL', start='2012-01-01', end=datetime.now())\n",
    "#data = pdr.get_data_yahoo(\"^GSPC\", start=\"2011-01-01\", end=\"2018-01-01\")\n"
   ]
  },
  {
   "cell_type": "code",
   "execution_count": 5,
   "metadata": {},
   "outputs": [],
   "source": [
    "data=data.drop(['Adj Close','Volume'], axis=1)\n"
   ]
  },
  {
   "cell_type": "code",
   "execution_count": 6,
   "metadata": {},
   "outputs": [],
   "source": [
    "# calculate momentum for each day\n",
    "# 5-day momentum\n",
    "\n",
    "def momentum(df):\n",
    "    n = len(df)\n",
    "    arr = []\n",
    "    for i in range(0,5):\n",
    "        arr.append('N')\n",
    "    for j in range(5,n):\n",
    "        momentum = df.Close[j] - df.Close[j-5] #Equation for momentum\n",
    "        arr.append(momentum)\n",
    "    return arr\n",
    "\n",
    "momentum = momentum(data)\n",
    "\n",
    "# add momentum to data\n",
    "data['Momentum'] = momentum"
   ]
  },
  {
   "cell_type": "code",
   "execution_count": 7,
   "metadata": {},
   "outputs": [],
   "source": [
    "#Use pct_change() function to add the one day returns to the dataframe \n",
    "\n",
    "data_pctchange=data.Close.pct_change()\n",
    "data['Return'] = data_pctchange"
   ]
  },
  {
   "cell_type": "code",
   "execution_count": 8,
   "metadata": {},
   "outputs": [],
   "source": [
    "#ROI function\n",
    "\n",
    "def ROI(df,n):\n",
    "    m = len(df)\n",
    "    arr = []\n",
    "    for i in range(0,n):\n",
    "        arr.append('N')\n",
    "    for j in range(n,m):\n",
    "        roi= (df.Close[j] - df.Close[j-n])/df.Close[j-n] #Equation for ROI\n",
    "        arr.append(roi)\n",
    "    return arr\n",
    "\n",
    "#Run the ROI function for 10, 20, and 30 day periods\n",
    "\n",
    "ROI10=ROI(data,10)\n",
    "ROI20=ROI(data,20)\n",
    "ROI30=ROI(data,30)\n",
    "\n",
    "\n",
    "#Add all 3 ROI results to dataframe \n",
    "\n",
    "data['10 Day ROI']=ROI10\n",
    "data['20 Day ROI']=ROI20\n",
    "data['30 Day ROI']=ROI30"
   ]
  },
  {
   "cell_type": "code",
   "execution_count": 9,
   "metadata": {},
   "outputs": [],
   "source": [
    "# calculate RSI for each day\n",
    "\n",
    "\n",
    "def RSI(df,period):\n",
    "    # get average of upwards of last 14 days: Ct - Ct-1\n",
    "    # get average of downwards of last 14 days: Ct-1 - Ct\n",
    "    n = len(df)\n",
    "    arr = []\n",
    "    for i in range(0,period):\n",
    "        arr.append('N')\n",
    "    for j in range(period,n):\n",
    "        total_upwards = 0\n",
    "        total_downwards = 0\n",
    "        # this will find average of upwards\n",
    "        for k in range(j,j-period,-1):\n",
    "            if(df.Close[k-1] > df.Close[k]):\n",
    "                total_downwards = total_downwards + (df.Close[k-1] - df.Close[k])    \n",
    "        avg_down = total_downwards / period\n",
    "        for l in range(j,j-period,-1):\n",
    "            if(df.Close[l] > df.Close[l-1]):\n",
    "                total_upwards = total_upwards + (df.Close[l] - df.Close[l-1])\n",
    "        avg_up = total_upwards / period\n",
    "        RS = avg_up / avg_down\n",
    "        RSI  = 100 - (100/(1+RS))\n",
    "        arr.append(RSI)\n",
    "    return arr\n",
    "\n",
    "\n",
    "#Run RSI for 10, 14, and 30 day periods\n",
    "\n",
    "RSI_14 = RSI(data,14)\n",
    "RSI_10 = RSI(data,10)\n",
    "RSI_30 = RSI(data,30)\n",
    "\n",
    "# add RSI to data\n",
    "\n",
    "data['10_day_RSI'] = RSI_10\n",
    "data['14_day_RSI'] = RSI_14\n",
    "data['30_day_RSI'] = RSI_30"
   ]
  },
  {
   "cell_type": "code",
   "execution_count": 10,
   "metadata": {},
   "outputs": [],
   "source": [
    "# calculate EMA for each day\n",
    "# formula: EMA = (2/(n+1))*ClosePrice + (1-(2/(n+1)))*previousEMA\n",
    "\n",
    "def EMA(df, n):\n",
    "    m = len(df)\n",
    "    arr = []\n",
    "    arr.append('N')\n",
    "    prevEMA = df.Close[0]\n",
    "    for i in range(1,m):\n",
    "        close = df.Close[i]\n",
    "        EMA = ((2/(n+1))*close) + ((1-(2/(n+1)))*prevEMA)\n",
    "        arr.append(EMA)\n",
    "        prevEMA = EMA\n",
    "    return arr\n",
    "\n",
    "#Calculate EMA with n=12 and n=26\n",
    "\n",
    "EMA_12 = EMA(data, 12)\n",
    "EMA_26 = EMA(data, 26)\n",
    "\n",
    "#add EMA to dataframe \n",
    "\n",
    "data['EMA_12'] = EMA_12\n",
    "data['EMA_26'] = EMA_26"
   ]
  },
  {
   "cell_type": "code",
   "execution_count": 11,
   "metadata": {},
   "outputs": [],
   "source": [
    "#Function to Classify each day as a 1 or a 0\n",
    "\n",
    "def clas(df):\n",
    "    n = len(df)\n",
    "    arr = []\n",
    "    for i in range(0,len(df)-1):\n",
    "        if (100*((df.Close[i+1]-df.Open[i+1])/df.Open[i+1]))>=.3:\n",
    "            arr.append(1)\n",
    "        else:\n",
    "            arr.append(0)\n",
    "    arr.append('N')\n",
    "    return arr\n",
    "\n",
    "clas=clas(data)\n",
    "\n",
    "#Add Class to our dataframe\n",
    "data['Class'] = clas"
   ]
  },
  {
   "cell_type": "code",
   "execution_count": 12,
   "metadata": {},
   "outputs": [],
   "source": [
    "#MACD\n",
    "# Moving Average of EMA(n) - EMA(m2) for each row\n",
    "# where n = 12 and m2 = 26\n",
    "def MACD(df):\n",
    "    n = 12\n",
    "    m2 = 26\n",
    "    arr = []\n",
    "    arr.append('N')\n",
    "    ema_12 = EMA(df,n)\n",
    "    ema_26 = EMA(df,m2)\n",
    "    m = len(df)\n",
    "    for i in range(1,m):\n",
    "        arr.append(ema_12[i] - ema_26[i])\n",
    "    return arr\n",
    "\n",
    "MACD = MACD(data)\n",
    "\n",
    "#Add MACD to our dataframe \n",
    "data['MACD_12_26'] = MACD"
   ]
  },
  {
   "cell_type": "code",
   "execution_count": 13,
   "metadata": {},
   "outputs": [],
   "source": [
    "#SRSI: Stochastic RSI\n",
    "#SRSI = (RSI_today - min(RSI_past_n)) / (max(RSI_past_n) - min(RSI_past_n))\n",
    "def SRSI(df,n):\n",
    "    m = len(df)\n",
    "    arr = []\n",
    "    list_RSI = RSI(df,n)\n",
    "    for i in range(0,n):\n",
    "        arr.append('N')\n",
    "    for j in range(n,n+n):\n",
    "        last_n = list_RSI[n:j]\n",
    "        if(not(last_n == []) and not(max(last_n) == min(last_n))):\n",
    "            SRSI = (list_RSI[j] - min(last_n)) / (max(last_n)- min(last_n))\n",
    "            if SRSI > 1:\n",
    "                arr.append(1)\n",
    "            else:\n",
    "                arr.append(SRSI)\n",
    "        else:\n",
    "            arr.append(0)\n",
    "    for j in range(n+n,m):\n",
    "        last_n = list_RSI[2*n:j]\n",
    "        if(not(last_n == []) and not(max(last_n) == min(last_n))):\n",
    "            SRSI = (list_RSI[j] - min(last_n)) / (max(last_n)- min(last_n))\n",
    "            if SRSI > 1:\n",
    "                arr.append(1)\n",
    "            else:\n",
    "                arr.append(SRSI)\n",
    "        else:\n",
    "            arr.append(0)\n",
    "    return arr\n",
    "\n",
    "#Run SRSI for 10, 14, and 30 day periods\n",
    "SRSI_10 = SRSI(data,10)\n",
    "SRSI_14 = SRSI(data,14)\n",
    "SRSI_30 = SRSI(data,30)\n",
    "\n",
    "#Add SRSI to our dataframe\n",
    "data['SRSI_10'] = SRSI_10\n",
    "data['SRSI_14'] = SRSI_14\n",
    "data['SRSI_30'] = SRSI_30"
   ]
  },
  {
   "cell_type": "code",
   "execution_count": 14,
   "metadata": {},
   "outputs": [],
   "source": [
    "# calculate Williams %R oscillator for each day\n",
    "\n",
    "def Williams(df,n):\n",
    "    m = len(df)\n",
    "    arr = []\n",
    "    for i in range(0,n-1):\n",
    "        arr.append('N')\n",
    "    for j in range(n-1,m):\n",
    "        maximum = max(data.High[(j-n+1):j+1])\n",
    "        minimum = min(data.Low[(j-n+1):j+1])\n",
    "        val = (-100)*(maximum-df.Close[j])/(maximum-minimum)\n",
    "        arr.append(val)\n",
    "    return arr\n",
    "\n",
    "\n",
    "williams = Williams(data,14)\n",
    "\n",
    "#Add Williams%R to our dataframe\n",
    "data['Williams'] = williams"
   ]
  },
  {
   "cell_type": "code",
   "execution_count": 15,
   "metadata": {},
   "outputs": [],
   "source": [
    "# True Range\n",
    "# TR = MAX(high[today] - close[yesterday]) - MIN(low[today] - close[yesterday])\n",
    "def TR(df,n):\n",
    "    high = df.High[n]\n",
    "    low = df.Low[n]\n",
    "    close = df.Close[n-1]\n",
    "    l_max = list()\n",
    "    l_max.append(high)\n",
    "    l_max.append(close)\n",
    "    l_min = list()\n",
    "    l_min.append(low)\n",
    "    l_min.append(close)\n",
    "    return (max(l_max) - min(l_min))\n",
    "\n",
    "# Average True Range\n",
    "# Same as EMA except use TR in lieu of close (prevEMA = TR(dataframe,14days))\n",
    "def ATR(df,n):\n",
    "    m = len(df)\n",
    "    arr = []\n",
    "    prevEMA = TR(df,n+1)\n",
    "    for i in range(0,n):\n",
    "        arr.append('N')\n",
    "    for j in range(n,m):\n",
    "        TR_ = TR(df,j)\n",
    "        EMA = ((2/(n+1))*TR_) + ((1-(2/(n+1)))*prevEMA)\n",
    "        arr.append(EMA)\n",
    "        prevEMA = EMA\n",
    "    return arr\n",
    "\n",
    "ATR = ATR(data,14)  \n",
    "\n",
    "#Add ATR to our dataframe\n",
    "data['ATR_14'] = ATR"
   ]
  },
  {
   "cell_type": "code",
   "execution_count": 16,
   "metadata": {},
   "outputs": [],
   "source": [
    "# calculate Commodity Channel Index (CCI) for each day\n",
    "\n",
    "import numpy as np\n",
    "def CCI(df,n):\n",
    "    m = len(df)\n",
    "    arr = []\n",
    "    tparr = []\n",
    "    for i in range(0,n-1):\n",
    "        arr.append('N')\n",
    "        tp = (df.High[i]+df.Low[i]+df.Close[i])/3\n",
    "        tparr.append(tp)\n",
    "    for j in range(n-1,m):\n",
    "        tp = (df.High[j]+df.Low[j]+df.Close[j])/3\n",
    "        tparr.append(tp) \n",
    "        tps = np.array(tparr[(j-n+1):(j+1)])\n",
    "        val = (tp-tps.mean())/(0.015*tps.std())\n",
    "        arr.append(val)\n",
    "    return arr\n",
    "\n",
    "cci = CCI(data,20) \n",
    "\n",
    "#Add CCI to our dataframe\n",
    "data['CCI'] = cci"
   ]
  },
  {
   "cell_type": "code",
   "execution_count": 17,
   "metadata": {},
   "outputs": [
    {
     "data": {
      "text/plain": [
       "(2801, 22)"
      ]
     },
     "execution_count": 17,
     "metadata": {},
     "output_type": "execute_result"
    }
   ],
   "source": [
    "#double check that the dataframe has all 22 features\n",
    "data.shape"
   ]
  },
  {
   "cell_type": "code",
   "execution_count": 18,
   "metadata": {},
   "outputs": [],
   "source": [
    "#def normalization function to clean data\n",
    "def normalize(df):\n",
    "    for column in df:\n",
    "        df[column]=((df[column]-df[column].mean())/df[column].std())"
   ]
  },
  {
   "cell_type": "code",
   "execution_count": 19,
   "metadata": {},
   "outputs": [],
   "source": [
    "#def positive values for running Multinomial Naive Bayes\n",
    "def positivevalues(df):\n",
    "    for column in df:\n",
    "        if (df[column].min())<0:\n",
    "            df[column]=(df[column]-df[column].min())"
   ]
  },
  {
   "cell_type": "code",
   "execution_count": 20,
   "metadata": {},
   "outputs": [
    {
     "data": {
      "text/html": [
       "<div>\n",
       "<style scoped>\n",
       "    .dataframe tbody tr th:only-of-type {\n",
       "        vertical-align: middle;\n",
       "    }\n",
       "\n",
       "    .dataframe tbody tr th {\n",
       "        vertical-align: top;\n",
       "    }\n",
       "\n",
       "    .dataframe thead th {\n",
       "        text-align: right;\n",
       "    }\n",
       "</style>\n",
       "<table border=\"1\" class=\"dataframe\">\n",
       "  <thead>\n",
       "    <tr style=\"text-align: right;\">\n",
       "      <th></th>\n",
       "      <th>Open</th>\n",
       "      <th>Close</th>\n",
       "      <th>Momentum</th>\n",
       "      <th>Return</th>\n",
       "      <th>10 Day ROI</th>\n",
       "      <th>20 Day ROI</th>\n",
       "      <th>30 Day ROI</th>\n",
       "      <th>10_day_RSI</th>\n",
       "      <th>14_day_RSI</th>\n",
       "      <th>30_day_RSI</th>\n",
       "      <th>EMA_12</th>\n",
       "      <th>EMA_26</th>\n",
       "      <th>MACD_12_26</th>\n",
       "      <th>SRSI_10</th>\n",
       "      <th>SRSI_14</th>\n",
       "      <th>SRSI_30</th>\n",
       "      <th>Williams</th>\n",
       "      <th>ATR_14</th>\n",
       "      <th>CCI</th>\n",
       "    </tr>\n",
       "    <tr>\n",
       "      <th>Date</th>\n",
       "      <th></th>\n",
       "      <th></th>\n",
       "      <th></th>\n",
       "      <th></th>\n",
       "      <th></th>\n",
       "      <th></th>\n",
       "      <th></th>\n",
       "      <th></th>\n",
       "      <th></th>\n",
       "      <th></th>\n",
       "      <th></th>\n",
       "      <th></th>\n",
       "      <th></th>\n",
       "      <th></th>\n",
       "      <th></th>\n",
       "      <th></th>\n",
       "      <th></th>\n",
       "      <th></th>\n",
       "      <th></th>\n",
       "    </tr>\n",
       "  </thead>\n",
       "  <tbody>\n",
       "    <tr>\n",
       "      <th>2012-02-15</th>\n",
       "      <td>18.366428</td>\n",
       "      <td>17.773930</td>\n",
       "      <td>0.749643</td>\n",
       "      <td>-0.023142</td>\n",
       "      <td>0.0909271</td>\n",
       "      <td>0.159773</td>\n",
       "      <td>0.210199</td>\n",
       "      <td>80.8632</td>\n",
       "      <td>83.4258</td>\n",
       "      <td>77.5955</td>\n",
       "      <td>17.1681</td>\n",
       "      <td>16.4432</td>\n",
       "      <td>0.724947</td>\n",
       "      <td>0.362332</td>\n",
       "      <td>-11.021</td>\n",
       "      <td>0</td>\n",
       "      <td>-34.6824</td>\n",
       "      <td>0.497056</td>\n",
       "      <td>115.624</td>\n",
       "    </tr>\n",
       "    <tr>\n",
       "      <th>2012-02-16</th>\n",
       "      <td>17.553572</td>\n",
       "      <td>17.936071</td>\n",
       "      <td>0.322857</td>\n",
       "      <td>0.009122</td>\n",
       "      <td>0.103467</td>\n",
       "      <td>0.174074</td>\n",
       "      <td>0.214711</td>\n",
       "      <td>83.3169</td>\n",
       "      <td>83.8114</td>\n",
       "      <td>77.9239</td>\n",
       "      <td>17.2863</td>\n",
       "      <td>16.5538</td>\n",
       "      <td>0.732507</td>\n",
       "      <td>0.45605</td>\n",
       "      <td>0.0302126</td>\n",
       "      <td>0</td>\n",
       "      <td>-29.7651</td>\n",
       "      <td>0.517734</td>\n",
       "      <td>83.952</td>\n",
       "    </tr>\n",
       "    <tr>\n",
       "      <th>2012-02-17</th>\n",
       "      <td>17.968214</td>\n",
       "      <td>17.932858</td>\n",
       "      <td>0.310715</td>\n",
       "      <td>-0.000179</td>\n",
       "      <td>0.0923251</td>\n",
       "      <td>0.194671</td>\n",
       "      <td>0.201158</td>\n",
       "      <td>82.0544</td>\n",
       "      <td>82.4845</td>\n",
       "      <td>77.2224</td>\n",
       "      <td>17.3858</td>\n",
       "      <td>16.6559</td>\n",
       "      <td>0.729826</td>\n",
       "      <td>0.407832</td>\n",
       "      <td>-0.0737463</td>\n",
       "      <td>-1.13589</td>\n",
       "      <td>-33.01</td>\n",
       "      <td>0.484275</td>\n",
       "      <td>89.3864</td>\n",
       "    </tr>\n",
       "    <tr>\n",
       "      <th>2012-02-21</th>\n",
       "      <td>18.102858</td>\n",
       "      <td>18.387501</td>\n",
       "      <td>0.4375</td>\n",
       "      <td>0.025353</td>\n",
       "      <td>0.109662</td>\n",
       "      <td>0.204581</td>\n",
       "      <td>0.218868</td>\n",
       "      <td>84.0837</td>\n",
       "      <td>84.3961</td>\n",
       "      <td>78.392</td>\n",
       "      <td>17.5399</td>\n",
       "      <td>16.7842</td>\n",
       "      <td>0.755676</td>\n",
       "      <td>0.485338</td>\n",
       "      <td>0.139475</td>\n",
       "      <td>1</td>\n",
       "      <td>-15.8207</td>\n",
       "      <td>0.480324</td>\n",
       "      <td>99.8807</td>\n",
       "    </tr>\n",
       "    <tr>\n",
       "      <th>2012-02-22</th>\n",
       "      <td>18.324286</td>\n",
       "      <td>18.322857</td>\n",
       "      <td>0.127857</td>\n",
       "      <td>-0.003516</td>\n",
       "      <td>0.0942985</td>\n",
       "      <td>0.220333</td>\n",
       "      <td>0.216513</td>\n",
       "      <td>80.8772</td>\n",
       "      <td>82.9108</td>\n",
       "      <td>77.8469</td>\n",
       "      <td>17.6603</td>\n",
       "      <td>16.8982</td>\n",
       "      <td>0.76216</td>\n",
       "      <td>0.36287</td>\n",
       "      <td>0.0311006</td>\n",
       "      <td>0.53394</td>\n",
       "      <td>-18.3239</td>\n",
       "      <td>0.446852</td>\n",
       "      <td>96.7821</td>\n",
       "    </tr>\n",
       "  </tbody>\n",
       "</table>\n",
       "</div>"
      ],
      "text/plain": [
       "                 Open      Close  Momentum    Return 10 Day ROI 20 Day ROI  \\\n",
       "Date                                                                         \n",
       "2012-02-15  18.366428  17.773930  0.749643 -0.023142  0.0909271   0.159773   \n",
       "2012-02-16  17.553572  17.936071  0.322857  0.009122   0.103467   0.174074   \n",
       "2012-02-17  17.968214  17.932858  0.310715 -0.000179  0.0923251   0.194671   \n",
       "2012-02-21  18.102858  18.387501    0.4375  0.025353   0.109662   0.204581   \n",
       "2012-02-22  18.324286  18.322857  0.127857 -0.003516  0.0942985   0.220333   \n",
       "\n",
       "           30 Day ROI 10_day_RSI 14_day_RSI 30_day_RSI   EMA_12   EMA_26  \\\n",
       "Date                                                                       \n",
       "2012-02-15   0.210199    80.8632    83.4258    77.5955  17.1681  16.4432   \n",
       "2012-02-16   0.214711    83.3169    83.8114    77.9239  17.2863  16.5538   \n",
       "2012-02-17   0.201158    82.0544    82.4845    77.2224  17.3858  16.6559   \n",
       "2012-02-21   0.218868    84.0837    84.3961     78.392  17.5399  16.7842   \n",
       "2012-02-22   0.216513    80.8772    82.9108    77.8469  17.6603  16.8982   \n",
       "\n",
       "           MACD_12_26   SRSI_10    SRSI_14  SRSI_30 Williams    ATR_14  \\\n",
       "Date                                                                     \n",
       "2012-02-15   0.724947  0.362332    -11.021        0 -34.6824  0.497056   \n",
       "2012-02-16   0.732507   0.45605  0.0302126        0 -29.7651  0.517734   \n",
       "2012-02-17   0.729826  0.407832 -0.0737463 -1.13589   -33.01  0.484275   \n",
       "2012-02-21   0.755676  0.485338   0.139475        1 -15.8207  0.480324   \n",
       "2012-02-22    0.76216   0.36287  0.0311006  0.53394 -18.3239  0.446852   \n",
       "\n",
       "                CCI  \n",
       "Date                 \n",
       "2012-02-15  115.624  \n",
       "2012-02-16   83.952  \n",
       "2012-02-17  89.3864  \n",
       "2012-02-21  99.8807  \n",
       "2012-02-22  96.7821  "
      ]
     },
     "execution_count": 20,
     "metadata": {},
     "output_type": "execute_result"
    }
   ],
   "source": [
    "#Remove the first 30 index which could have a value 'N'\n",
    "newdata=data.drop(data.index[0:30])\n",
    "\n",
    "#Remove the last row of data because class has value 'N'\n",
    "newdata=newdata.drop(newdata.index[-1])\n",
    "\n",
    "#Remove 'High' and 'Low' columns to improve the algorithm\n",
    "newdata=newdata.drop(['High','Low'], axis=1)\n",
    "\n",
    "#Remove our 'Class' column because it acts as y in our algorithms \n",
    "newdata=newdata.drop(['Class'], axis=1)\n",
    "\n",
    "#check the features that remain in our algorithm \n",
    "newdata.head()"
   ]
  },
  {
   "cell_type": "code",
   "execution_count": 21,
   "metadata": {},
   "outputs": [],
   "source": [
    "#Normalize the data that we have filtered\n",
    "normalize(newdata)\n",
    "\n"
   ]
  },
  {
   "cell_type": "code",
   "execution_count": 22,
   "metadata": {},
   "outputs": [],
   "source": [
    "#Put the dataframe with our relevant features into X and our class into our y\n",
    "X=newdata\n",
    "y=clas[30:-1]\n"
   ]
  },
  {
   "cell_type": "code",
   "execution_count": 23,
   "metadata": {},
   "outputs": [],
   "source": [
    "#Split up our test and train by splitting 70%/30%\n",
    "\n",
    "X_train=X.drop(X.index[1211:])\n",
    "X_test=X.drop(X.index[0:1211])\n",
    "y_train=y[0:1211]\n",
    "y_test=y[1211:]"
   ]
  },
  {
   "cell_type": "code",
   "execution_count": 24,
   "metadata": {},
   "outputs": [
    {
     "data": {
      "text/plain": [
       "LogisticRegression()"
      ]
     },
     "execution_count": 24,
     "metadata": {},
     "output_type": "execute_result"
    }
   ],
   "source": [
    "#Import and run Logistic Regression and run a fit to train the model\n",
    "from sklearn.linear_model import LogisticRegression\n",
    "\n",
    "LR=LogisticRegression()\n",
    "LR.fit(X_train,y_train)"
   ]
  },
  {
   "cell_type": "code",
   "execution_count": 25,
   "metadata": {},
   "outputs": [],
   "source": [
    "#Predict the y test \n",
    "y_pred_LR=LR.predict(X_test)"
   ]
  },
  {
   "cell_type": "code",
   "execution_count": 26,
   "metadata": {},
   "outputs": [
    {
     "name": "stdout",
     "output_type": "stream",
     "text": [
      "0.554842847979474\n"
     ]
    }
   ],
   "source": [
    "#Print the accuracy score of our predicted y using metrics from sklearn\n",
    "from sklearn import metrics\n",
    "print (metrics.accuracy_score(y_test, y_pred_LR)) "
   ]
  },
  {
   "cell_type": "code",
   "execution_count": 27,
   "metadata": {},
   "outputs": [
    {
     "data": {
      "text/plain": [
       "GaussianNB()"
      ]
     },
     "execution_count": 27,
     "metadata": {},
     "output_type": "execute_result"
    }
   ],
   "source": [
    "#Import and run Gaussian Naive Bayes and run a fit to train the model\n",
    "from sklearn.naive_bayes import GaussianNB\n",
    "\n",
    "GNB = GaussianNB()\n",
    "GNB.fit(X_train,y_train)"
   ]
  },
  {
   "cell_type": "code",
   "execution_count": 28,
   "metadata": {},
   "outputs": [],
   "source": [
    "#Predict the y test\n",
    "y_pred=GNB.predict(X_test)"
   ]
  },
  {
   "cell_type": "code",
   "execution_count": 29,
   "metadata": {},
   "outputs": [
    {
     "name": "stdout",
     "output_type": "stream",
     "text": [
      "0.5182809493264914\n"
     ]
    }
   ],
   "source": [
    "#Print the accuracy score of our predicted y using metrics from sklearn\n",
    "from sklearn import metrics\n",
    "print (metrics.accuracy_score(y_test, y_pred)) "
   ]
  },
  {
   "cell_type": "code",
   "execution_count": 30,
   "metadata": {},
   "outputs": [
    {
     "data": {
      "text/plain": [
       "0.6940598322000119"
      ]
     },
     "execution_count": 30,
     "metadata": {},
     "output_type": "execute_result"
    }
   ],
   "source": [
    "\n",
    "\n",
    "rmse = np.sqrt(np.mean(((y_pred - y_test) ** 2)))\n",
    "rmse"
   ]
  }
 ],
 "metadata": {
  "kernelspec": {
   "display_name": "Python 3",
   "language": "python",
   "name": "python3"
  },
  "language_info": {
   "codemirror_mode": {
    "name": "ipython",
    "version": 3
   },
   "file_extension": ".py",
   "mimetype": "text/x-python",
   "name": "python",
   "nbconvert_exporter": "python",
   "pygments_lexer": "ipython3",
   "version": "3.8.3"
  }
 },
 "nbformat": 4,
 "nbformat_minor": 2
}
